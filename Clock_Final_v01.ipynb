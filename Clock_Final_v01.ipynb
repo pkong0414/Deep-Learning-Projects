{
  "nbformat": 4,
  "nbformat_minor": 0,
  "metadata": {
    "colab": {
      "name": "Clock_Final_v01.ipynb",
      "version": "0.3.2",
      "provenance": [],
      "collapsed_sections": [],
      "include_colab_link": true
    },
    "kernelspec": {
      "name": "python3",
      "display_name": "Python 3"
    },
    "accelerator": "GPU"
  },
  "cells": [
    {
      "cell_type": "markdown",
      "metadata": {
        "id": "view-in-github",
        "colab_type": "text"
      },
      "source": [
        "<a href=\"https://colab.research.google.com/github/pkong0414/Deep-Learning-Projects/blob/master/Clock_Final_v01.ipynb\" target=\"_parent\"><img src=\"https://colab.research.google.com/assets/colab-badge.svg\" alt=\"Open In Colab\"/></a>"
      ]
    },
    {
      "cell_type": "code",
      "metadata": {
        "id": "wP17MK9ejw6o",
        "colab_type": "code",
        "colab": {
          "base_uri": "https://localhost:8080/",
          "height": 35
        },
        "outputId": "ce9c1b89-96d4-4cbe-d036-24f1b8e4bec6"
      },
      "source": [
        "import keras\n",
        "from keras.models import *\n",
        "from keras.layers import *\n",
        "import os, shutil\n",
        "from keras.preprocessing import image\n",
        "from keras.preprocessing.image import ImageDataGenerator\n",
        "import matplotlib.image as mpimg\n",
        "import matplotlib.pyplot as plt\n",
        "\n",
        "#use this when you use google colab only!\n",
        "from google.colab import files, drive\n",
        "import glob\n",
        "import pandas as pd\n",
        "import io\n",
        "import numpy as np\n",
        "import cv2\n",
        "from PIL import Image\n",
        "import pathlib\n",
        "\n",
        "\n",
        "import tensorflow as tf\n"
      ],
      "execution_count": 1,
      "outputs": [
        {
          "output_type": "stream",
          "text": [
            "Using TensorFlow backend.\n"
          ],
          "name": "stderr"
        }
      ]
    },
    {
      "cell_type": "code",
      "metadata": {
        "id": "nbGB_tqcjy6c",
        "colab_type": "code",
        "colab": {
          "base_uri": "https://localhost:8080/",
          "height": 128
        },
        "outputId": "bc907558-e01b-4f25-e262-e0df884836dc"
      },
      "source": [
        "drive.mount('/content/drive')"
      ],
      "execution_count": 2,
      "outputs": [
        {
          "output_type": "stream",
          "text": [
            "Go to this URL in a browser: https://accounts.google.com/o/oauth2/auth?client_id=947318989803-6bn6qk8qdgf4n4g3pfee6491hc0brc4i.apps.googleusercontent.com&redirect_uri=urn%3Aietf%3Awg%3Aoauth%3A2.0%3Aoob&scope=email%20https%3A%2F%2Fwww.googleapis.com%2Fauth%2Fdocs.test%20https%3A%2F%2Fwww.googleapis.com%2Fauth%2Fdrive%20https%3A%2F%2Fwww.googleapis.com%2Fauth%2Fdrive.photos.readonly%20https%3A%2F%2Fwww.googleapis.com%2Fauth%2Fpeopleapi.readonly&response_type=code\n",
            "\n",
            "Enter your authorization code:\n",
            "··········\n",
            "Mounted at /content/drive\n"
          ],
          "name": "stdout"
        }
      ]
    },
    {
      "cell_type": "code",
      "metadata": {
        "id": "U7EqPfEij2Sp",
        "colab_type": "code",
        "colab": {
          "base_uri": "https://localhost:8080/",
          "height": 72
        },
        "outputId": "f989c694-aba3-4179-acec-8feed5579bae"
      },
      "source": [
        "!ls \"/content/drive/My Drive/Colab Notebooks/Clocks\""
      ],
      "execution_count": 3,
      "outputs": [
        {
          "output_type": "stream",
          "text": [
            "'All Clocks.csv'  'Digital Clock'   test_analog.csv    test_val_analog.csv\n",
            "'All Clocks.zip'   temp\t\t    test_digital       test_val_digital.csv\n",
            "'Analog Clock'\t   test_analog\t    test_digital.csv   test_validation.csv\n"
          ],
          "name": "stdout"
        }
      ]
    },
    {
      "cell_type": "code",
      "metadata": {
        "id": "S59y2ew1ya39",
        "colab_type": "code",
        "colab": {
          "base_uri": "https://localhost:8080/",
          "height": 326
        },
        "outputId": "bcc0fa82-bfc4-41c1-b3dd-9fc518d91797"
      },
      "source": [
        "!ls \"/content/drive/My Drive/Colab Notebooks/Clocks/test_analog/test\""
      ],
      "execution_count": 4,
      "outputs": [
        {
          "output_type": "stream",
          "text": [
            "pic_100.JPG  pic_25.JPG  pic_40.JPG  pic_56.JPG  pic_71.JPG  pic_87.JPG\n",
            "pic_10.JPG   pic_26.JPG  pic_41.JPG  pic_57.JPG  pic_72.JPG  pic_88.JPG\n",
            "pic_11.JPG   pic_27.JPG  pic_42.JPG  pic_58.JPG  pic_73.JPG  pic_89.JPG\n",
            "pic_12.JPG   pic_28.JPG  pic_43.JPG  pic_59.JPG  pic_74.JPG  pic_8.JPG\n",
            "pic_13.JPG   pic_29.JPG  pic_44.JPG  pic_5.JPG\t pic_75.JPG  pic_90.JPG\n",
            "pic_14.JPG   pic_2.JPG\t pic_45.JPG  pic_60.JPG  pic_76.JPG  pic_91.JPG\n",
            "pic_15.JPG   pic_30.JPG  pic_46.JPG  pic_61.JPG  pic_77.JPG  pic_92.JPG\n",
            "pic_16.JPG   pic_31.JPG  pic_47.JPG  pic_62.JPG  pic_78.JPG  pic_93.JPG\n",
            "pic_17.JPG   pic_32.JPG  pic_48.JPG  pic_63.JPG  pic_79.JPG  pic_94.JPG\n",
            "pic_18.JPG   pic_33.JPG  pic_49.JPG  pic_64.JPG  pic_7.JPG   pic_95.JPG\n",
            "pic_19.JPG   pic_34.JPG  pic_4.JPG   pic_65.JPG  pic_80.JPG  pic_96.JPG\n",
            "pic_1.JPG    pic_35.JPG  pic_50.JPG  pic_66.JPG  pic_81.JPG  pic_97.JPG\n",
            "pic_20.JPG   pic_36.JPG  pic_51.JPG  pic_67.JPG  pic_82.JPG  pic_98.JPG\n",
            "pic_21.JPG   pic_37.JPG  pic_52.JPG  pic_68.JPG  pic_83.JPG  pic_99.JPG\n",
            "pic_22.JPG   pic_38.JPG  pic_53.JPG  pic_69.JPG  pic_84.JPG  pic_9.JPG\n",
            "pic_23.JPG   pic_39.JPG  pic_54.JPG  pic_6.JPG\t pic_85.JPG\n",
            "pic_24.JPG   pic_3.JPG\t pic_55.JPG  pic_70.JPG  pic_86.JPG\n"
          ],
          "name": "stdout"
        }
      ]
    },
    {
      "cell_type": "code",
      "metadata": {
        "id": "xaW6RJOvj3Bu",
        "colab_type": "code",
        "colab": {}
      },
      "source": [
        "#file directory for analog\n",
        "base_A_dir = \"/content/drive/My Drive/Colab Notebooks/Clocks/Analog Clock/train\"\n",
        "\n",
        "#file directory for digital\n",
        "base_test_dir = \"/content/drive/My Drive/Colab Notebooks/Clocks/test_analog/test\"\n",
        "\n",
        "#file directory for target (labels)\n",
        "base_LA_dir = \"/content/drive/My Drive/Colab Notebooks/Clocks/test_val_analog.csv\"\n",
        "base_LT_dir = \"/content/drive/My Drive/Colab Notebooks/Clocks/test_analog.csv\"\n",
        "\n",
        "\n",
        "#open files from drive mount in google colab for correct picture names and lables\n",
        "file_csv = open(base_LA_dir, 'r')\n",
        "file2_csv = open(base_LT_dir, 'r')"
      ],
      "execution_count": 0,
      "outputs": []
    },
    {
      "cell_type": "code",
      "metadata": {
        "id": "gcMa1GOSj7zV",
        "colab_type": "code",
        "colab": {}
      },
      "source": [
        "def getfiles( csv ):\n",
        "  labels = []\n",
        "  labels2 = []\n",
        "  filenames = []\n",
        "  text = []\n",
        "  text2 = []\n",
        "\n",
        "  for files in csv:\n",
        "    text = files.split( \",\" )\n",
        "    text2 = files.split( \",\" )\n",
        "    labels.append( text[1].strip( '\\n' ) )\n",
        "    labels2.append( text2[1].strip( '\\n' ) )\n",
        "    filenames.append( text[0].strip( '\\ufeff' ) )\n",
        "    \n",
        "  return labels, labels2, filenames\n",
        "\n",
        "def getTrainAnalogFilepath( file ):\n",
        "  temp = []\n",
        "  analog = []\n",
        "\n",
        "  for items in file:\n",
        "    temp = os.path.join( base_A_dir, items )\n",
        "    analog.append( temp )\n",
        "\n",
        "  return analog\n",
        "\n",
        "def getTestFilepath( file ):\n",
        "  temp = []\n",
        "  analog = []\n",
        "\n",
        "  for items in file:\n",
        "    temp = os.path.join( base_test_dir, items )\n",
        "    analog.append( temp )\n",
        "\n",
        "  return analog\n",
        "\n",
        "\n",
        "def annotateTime( file ):\n",
        "    time = []\n",
        "    timeL = []\n",
        "    theta = np.zeros( ( 720, 2 ), dtype = 'float64' )\n",
        "    radius = np.zeros( ( 720, 2 ), dtype = 'float64' )\n",
        "    annotate_Hour = np.zeros( ( 720, 2 ), dtype = 'float64' )\n",
        "    annotate_Min = np.zeros( ( 720, 2 ), dtype = 'float64' )\n",
        "\n",
        "    hour = 0.0\n",
        "    minute = 0.0\n",
        "\n",
        "    #this will read from the csv labels and calculate the appropriate theta\n",
        "    #for the minute hand\n",
        "\n",
        "    #this will read the label and calculate the theta for the\n",
        "    #hour hand now\n",
        "\n",
        "    thetaH = []\n",
        "    thetaM = []\n",
        "    Hour = []\n",
        "    Min = []\n",
        "    for i in range( len( file ) ):\n",
        "\n",
        "      time =  file[ i ].split( ':' )\n",
        "      hour = int( time[ 0 ] )\n",
        "      minute = int( time[ 1 ] )\n",
        "      if ( time[ 0 ] == '12' ):\n",
        "        hour = 0\n",
        "      annotate_Hour[ i ][ 1 ] = float( 0.5 * minute ) + float( 30 * hour )\n",
        "      annotate_Hour[ i ][ 0 ] = 2\n",
        "      annotate_Min[ i ][ 1 ] = float( 6 * minute )\n",
        "      annotate_Min[ i ][ 0 ] = 4\n",
        "\n",
        "\n",
        "      timeL.append( str( time[ 0 ] + time[ 1 ] ) )\n",
        "\n",
        "\n",
        "\n",
        "      X = np.full([100, 100, 1], annotate_Hour[i][1])\n",
        "      X = np.expand_dims(X, axis = 0)\n",
        "      thetaH.append(X)\n",
        "      Z = np.full([100, 100, 1], annotate_Min[i][1])\n",
        "      Z = np.expand_dims(Z, axis = 0)\n",
        "      thetaM.append(Z)\n",
        "    thetaH = np.concatenate(thetaH, axis = 0)\n",
        "    thetaM = np.concatenate(thetaM, axis = 0)\n",
        "    \n",
        "    return thetaH, thetaM\n",
        "  \n",
        "def annotateTestTime( file ):\n",
        "  time = []\n",
        "  timeL = []\n",
        "  theta = np.zeros( ( 100, 2 ), dtype = 'float64' )\n",
        "  radius = np.zeros( ( 100, 2 ), dtype = 'float64' )\n",
        "  annotate_Hour = np.zeros( ( 100, 2 ), dtype = 'float64' )\n",
        "  annotate_Min = np.zeros( ( 100, 2 ), dtype = 'float64' )\n",
        "\n",
        "  hour = 0.0\n",
        "  minute = 0.0\n",
        "\n",
        "  #this will read from the csv labels and calculate the appropriate theta\n",
        "  #for the minute hand\n",
        "\n",
        "  #this will read the label and calculate the theta for the\n",
        "  #hour hand now\n",
        "\n",
        "  thetaH = []\n",
        "  thetaM = []\n",
        "  Hour = []\n",
        "  Min = []\n",
        "  for i in range( len( file ) ):\n",
        "\n",
        "    time =  file[ i ].split( ':' )\n",
        "    hour = int( time[ 0 ] )\n",
        "    minute = int( time[ 1 ] )\n",
        "    if ( time[ 0 ] == '12' ):\n",
        "      hour = 0\n",
        "    annotate_Hour[ i ][ 1 ] = float( 0.5 * minute ) + float( 30 * hour )\n",
        "    annotate_Hour[ i ][ 0 ] = 2\n",
        "    annotate_Min[ i ][ 1 ] = float( 6 * minute )\n",
        "    annotate_Min[ i ][ 0 ] = 4\n",
        "\n",
        "\n",
        "    timeL.append( str( time[ 0 ] + time[ 1 ] ) )\n",
        "\n",
        "\n",
        "\n",
        "    X = np.full([100, 100, 1], annotate_Hour[i][1])\n",
        "    X = np.expand_dims(X, axis = 0)\n",
        "    thetaH.append(X)\n",
        "    Z = np.full([100, 100, 1], annotate_Min[i][1])\n",
        "    Z = np.expand_dims(Z, axis = 0)\n",
        "    thetaM.append(Z)\n",
        "  thetaH = np.concatenate(thetaH, axis = 0)\n",
        "  thetaM = np.concatenate(thetaM, axis = 0)\n",
        "    \n",
        "  return thetaH, thetaM\n",
        "  \n",
        "def getHour( file ):\n",
        "  temp =[]\n",
        "  temp2  = []\n",
        "  temp3 = []\n",
        "  for item in file:\n",
        "    temp = item.split(\":\") \n",
        "    temp2 = int(temp[0]) - 1\n",
        "    temp3.append( temp2 )\n",
        "  return temp3"
      ],
      "execution_count": 0,
      "outputs": []
    },
    {
      "cell_type": "code",
      "metadata": {
        "id": "_1UWOaHnksZ_",
        "colab_type": "code",
        "colab": {}
      },
      "source": [
        "train_A_labels, train_A_labels2, train_A_filenames = getfiles(file_csv)"
      ],
      "execution_count": 0,
      "outputs": []
    },
    {
      "cell_type": "code",
      "metadata": {
        "id": "6Ijfo0AJuJbz",
        "colab_type": "code",
        "colab": {}
      },
      "source": [
        "test_A_labels, test_A_labels2, test_A_filenames = getfiles( file2_csv )"
      ],
      "execution_count": 0,
      "outputs": []
    },
    {
      "cell_type": "code",
      "metadata": {
        "id": "FUbOR_UPlUWz",
        "colab_type": "code",
        "colab": {}
      },
      "source": [
        "print(train_A_labels)"
      ],
      "execution_count": 0,
      "outputs": []
    },
    {
      "cell_type": "code",
      "metadata": {
        "id": "2Xsqm35klYGV",
        "colab_type": "code",
        "colab": {}
      },
      "source": [
        "print(train_A_labels2)"
      ],
      "execution_count": 0,
      "outputs": []
    },
    {
      "cell_type": "code",
      "metadata": {
        "id": "BcrOKIMhlebp",
        "colab_type": "code",
        "colab": {}
      },
      "source": [
        "print(train_A_filenames)"
      ],
      "execution_count": 0,
      "outputs": []
    },
    {
      "cell_type": "code",
      "metadata": {
        "id": "k8vYS4xgt-un",
        "colab_type": "code",
        "colab": {}
      },
      "source": [
        "test_img_analog = []\n",
        "test_img_analog = getTestFilepath( test_A_filenames )"
      ],
      "execution_count": 0,
      "outputs": []
    },
    {
      "cell_type": "code",
      "metadata": {
        "id": "PybMcrUnubF6",
        "colab_type": "code",
        "colab": {
          "base_uri": "https://localhost:8080/",
          "height": 55
        },
        "outputId": "2fb1022f-1dfc-447b-a315-3cf1e5e90977"
      },
      "source": [
        "print( test_img_analog )"
      ],
      "execution_count": 9,
      "outputs": [
        {
          "output_type": "stream",
          "text": [
            "['/content/drive/My Drive/Colab Notebooks/Clocks/test_analog/test/pic_1.JPG', '/content/drive/My Drive/Colab Notebooks/Clocks/test_analog/test/pic_2.JPG', '/content/drive/My Drive/Colab Notebooks/Clocks/test_analog/test/pic_3.JPG', '/content/drive/My Drive/Colab Notebooks/Clocks/test_analog/test/pic_4.JPG', '/content/drive/My Drive/Colab Notebooks/Clocks/test_analog/test/pic_5.JPG', '/content/drive/My Drive/Colab Notebooks/Clocks/test_analog/test/pic_6.JPG', '/content/drive/My Drive/Colab Notebooks/Clocks/test_analog/test/pic_7.JPG', '/content/drive/My Drive/Colab Notebooks/Clocks/test_analog/test/pic_8.JPG', '/content/drive/My Drive/Colab Notebooks/Clocks/test_analog/test/pic_9.JPG', '/content/drive/My Drive/Colab Notebooks/Clocks/test_analog/test/pic_10.JPG', '/content/drive/My Drive/Colab Notebooks/Clocks/test_analog/test/pic_11.JPG', '/content/drive/My Drive/Colab Notebooks/Clocks/test_analog/test/pic_12.JPG', '/content/drive/My Drive/Colab Notebooks/Clocks/test_analog/test/pic_13.JPG', '/content/drive/My Drive/Colab Notebooks/Clocks/test_analog/test/pic_14.JPG', '/content/drive/My Drive/Colab Notebooks/Clocks/test_analog/test/pic_15.JPG', '/content/drive/My Drive/Colab Notebooks/Clocks/test_analog/test/pic_16.JPG', '/content/drive/My Drive/Colab Notebooks/Clocks/test_analog/test/pic_17.JPG', '/content/drive/My Drive/Colab Notebooks/Clocks/test_analog/test/pic_18.JPG', '/content/drive/My Drive/Colab Notebooks/Clocks/test_analog/test/pic_19.JPG', '/content/drive/My Drive/Colab Notebooks/Clocks/test_analog/test/pic_20.JPG', '/content/drive/My Drive/Colab Notebooks/Clocks/test_analog/test/pic_21.JPG', '/content/drive/My Drive/Colab Notebooks/Clocks/test_analog/test/pic_22.JPG', '/content/drive/My Drive/Colab Notebooks/Clocks/test_analog/test/pic_23.JPG', '/content/drive/My Drive/Colab Notebooks/Clocks/test_analog/test/pic_24.JPG', '/content/drive/My Drive/Colab Notebooks/Clocks/test_analog/test/pic_25.JPG', '/content/drive/My Drive/Colab Notebooks/Clocks/test_analog/test/pic_26.JPG', '/content/drive/My Drive/Colab Notebooks/Clocks/test_analog/test/pic_27.JPG', '/content/drive/My Drive/Colab Notebooks/Clocks/test_analog/test/pic_28.JPG', '/content/drive/My Drive/Colab Notebooks/Clocks/test_analog/test/pic_29.JPG', '/content/drive/My Drive/Colab Notebooks/Clocks/test_analog/test/pic_30.JPG', '/content/drive/My Drive/Colab Notebooks/Clocks/test_analog/test/pic_31.JPG', '/content/drive/My Drive/Colab Notebooks/Clocks/test_analog/test/pic_32.JPG', '/content/drive/My Drive/Colab Notebooks/Clocks/test_analog/test/pic_33.JPG', '/content/drive/My Drive/Colab Notebooks/Clocks/test_analog/test/pic_34.JPG', '/content/drive/My Drive/Colab Notebooks/Clocks/test_analog/test/pic_35.JPG', '/content/drive/My Drive/Colab Notebooks/Clocks/test_analog/test/pic_36.JPG', '/content/drive/My Drive/Colab Notebooks/Clocks/test_analog/test/pic_37.JPG', '/content/drive/My Drive/Colab Notebooks/Clocks/test_analog/test/pic_38.JPG', '/content/drive/My Drive/Colab Notebooks/Clocks/test_analog/test/pic_39.JPG', '/content/drive/My Drive/Colab Notebooks/Clocks/test_analog/test/pic_40.JPG', '/content/drive/My Drive/Colab Notebooks/Clocks/test_analog/test/pic_41.JPG', '/content/drive/My Drive/Colab Notebooks/Clocks/test_analog/test/pic_42.JPG', '/content/drive/My Drive/Colab Notebooks/Clocks/test_analog/test/pic_43.JPG', '/content/drive/My Drive/Colab Notebooks/Clocks/test_analog/test/pic_44.JPG', '/content/drive/My Drive/Colab Notebooks/Clocks/test_analog/test/pic_45.JPG', '/content/drive/My Drive/Colab Notebooks/Clocks/test_analog/test/pic_46.JPG', '/content/drive/My Drive/Colab Notebooks/Clocks/test_analog/test/pic_47.JPG', '/content/drive/My Drive/Colab Notebooks/Clocks/test_analog/test/pic_48.JPG', '/content/drive/My Drive/Colab Notebooks/Clocks/test_analog/test/pic_49.JPG', '/content/drive/My Drive/Colab Notebooks/Clocks/test_analog/test/pic_50.JPG', '/content/drive/My Drive/Colab Notebooks/Clocks/test_analog/test/pic_51.JPG', '/content/drive/My Drive/Colab Notebooks/Clocks/test_analog/test/pic_52.JPG', '/content/drive/My Drive/Colab Notebooks/Clocks/test_analog/test/pic_53.JPG', '/content/drive/My Drive/Colab Notebooks/Clocks/test_analog/test/pic_54.JPG', '/content/drive/My Drive/Colab Notebooks/Clocks/test_analog/test/pic_55.JPG', '/content/drive/My Drive/Colab Notebooks/Clocks/test_analog/test/pic_56.JPG', '/content/drive/My Drive/Colab Notebooks/Clocks/test_analog/test/pic_57.JPG', '/content/drive/My Drive/Colab Notebooks/Clocks/test_analog/test/pic_58.JPG', '/content/drive/My Drive/Colab Notebooks/Clocks/test_analog/test/pic_59.JPG', '/content/drive/My Drive/Colab Notebooks/Clocks/test_analog/test/pic_60.JPG', '/content/drive/My Drive/Colab Notebooks/Clocks/test_analog/test/pic_61.JPG', '/content/drive/My Drive/Colab Notebooks/Clocks/test_analog/test/pic_62.JPG', '/content/drive/My Drive/Colab Notebooks/Clocks/test_analog/test/pic_63.JPG', '/content/drive/My Drive/Colab Notebooks/Clocks/test_analog/test/pic_64.JPG', '/content/drive/My Drive/Colab Notebooks/Clocks/test_analog/test/pic_65.JPG', '/content/drive/My Drive/Colab Notebooks/Clocks/test_analog/test/pic_66.JPG', '/content/drive/My Drive/Colab Notebooks/Clocks/test_analog/test/pic_67.JPG', '/content/drive/My Drive/Colab Notebooks/Clocks/test_analog/test/pic_68.JPG', '/content/drive/My Drive/Colab Notebooks/Clocks/test_analog/test/pic_69.JPG', '/content/drive/My Drive/Colab Notebooks/Clocks/test_analog/test/pic_70.JPG', '/content/drive/My Drive/Colab Notebooks/Clocks/test_analog/test/pic_71.JPG', '/content/drive/My Drive/Colab Notebooks/Clocks/test_analog/test/pic_72.JPG', '/content/drive/My Drive/Colab Notebooks/Clocks/test_analog/test/pic_73.JPG', '/content/drive/My Drive/Colab Notebooks/Clocks/test_analog/test/pic_74.JPG', '/content/drive/My Drive/Colab Notebooks/Clocks/test_analog/test/pic_75.JPG', '/content/drive/My Drive/Colab Notebooks/Clocks/test_analog/test/pic_76.JPG', '/content/drive/My Drive/Colab Notebooks/Clocks/test_analog/test/pic_77.JPG', '/content/drive/My Drive/Colab Notebooks/Clocks/test_analog/test/pic_78.JPG', '/content/drive/My Drive/Colab Notebooks/Clocks/test_analog/test/pic_79.JPG', '/content/drive/My Drive/Colab Notebooks/Clocks/test_analog/test/pic_80.JPG', '/content/drive/My Drive/Colab Notebooks/Clocks/test_analog/test/pic_81.JPG', '/content/drive/My Drive/Colab Notebooks/Clocks/test_analog/test/pic_82.JPG', '/content/drive/My Drive/Colab Notebooks/Clocks/test_analog/test/pic_83.JPG', '/content/drive/My Drive/Colab Notebooks/Clocks/test_analog/test/pic_84.JPG', '/content/drive/My Drive/Colab Notebooks/Clocks/test_analog/test/pic_85.JPG', '/content/drive/My Drive/Colab Notebooks/Clocks/test_analog/test/pic_86.JPG', '/content/drive/My Drive/Colab Notebooks/Clocks/test_analog/test/pic_87.JPG', '/content/drive/My Drive/Colab Notebooks/Clocks/test_analog/test/pic_88.JPG', '/content/drive/My Drive/Colab Notebooks/Clocks/test_analog/test/pic_89.JPG', '/content/drive/My Drive/Colab Notebooks/Clocks/test_analog/test/pic_90.JPG', '/content/drive/My Drive/Colab Notebooks/Clocks/test_analog/test/pic_91.JPG', '/content/drive/My Drive/Colab Notebooks/Clocks/test_analog/test/pic_92.JPG', '/content/drive/My Drive/Colab Notebooks/Clocks/test_analog/test/pic_93.JPG', '/content/drive/My Drive/Colab Notebooks/Clocks/test_analog/test/pic_94.JPG', '/content/drive/My Drive/Colab Notebooks/Clocks/test_analog/test/pic_95.JPG', '/content/drive/My Drive/Colab Notebooks/Clocks/test_analog/test/pic_96.JPG', '/content/drive/My Drive/Colab Notebooks/Clocks/test_analog/test/pic_97.JPG', '/content/drive/My Drive/Colab Notebooks/Clocks/test_analog/test/pic_98.JPG', '/content/drive/My Drive/Colab Notebooks/Clocks/test_analog/test/pic_99.JPG', '/content/drive/My Drive/Colab Notebooks/Clocks/test_analog/test/pic_100.JPG']\n"
          ],
          "name": "stdout"
        }
      ]
    },
    {
      "cell_type": "code",
      "metadata": {
        "id": "g2g3iCG8mJSo",
        "colab_type": "code",
        "colab": {}
      },
      "source": [
        "image_analog = getTrainAnalogFilepath( train_A_filenames )"
      ],
      "execution_count": 0,
      "outputs": []
    },
    {
      "cell_type": "code",
      "metadata": {
        "id": "uew452rKmStf",
        "colab_type": "code",
        "colab": {}
      },
      "source": [
        "print( image_analog )"
      ],
      "execution_count": 0,
      "outputs": []
    },
    {
      "cell_type": "code",
      "metadata": {
        "id": "uW0CG6Ten_Tv",
        "colab_type": "code",
        "colab": {}
      },
      "source": [
        "tH,tM = annotateTime( train_A_labels )"
      ],
      "execution_count": 0,
      "outputs": []
    },
    {
      "cell_type": "code",
      "metadata": {
        "id": "DEdrnyR-3foX",
        "colab_type": "code",
        "colab": {}
      },
      "source": [
        "print( tH.shape )"
      ],
      "execution_count": 0,
      "outputs": []
    },
    {
      "cell_type": "code",
      "metadata": {
        "id": "6jBLyWDb3jhr",
        "colab_type": "code",
        "colab": {}
      },
      "source": [
        "print( tM.shape )"
      ],
      "execution_count": 0,
      "outputs": []
    },
    {
      "cell_type": "code",
      "metadata": {
        "id": "EGu1Md-xutcJ",
        "colab_type": "code",
        "colab": {}
      },
      "source": [
        "testH,testM = annotateTestTime( test_A_labels )"
      ],
      "execution_count": 0,
      "outputs": []
    },
    {
      "cell_type": "code",
      "metadata": {
        "id": "tuKD61cooMql",
        "colab_type": "code",
        "colab": {
          "base_uri": "https://localhost:8080/",
          "height": 35
        },
        "outputId": "ff2a635f-4736-436f-dcd5-11056a370ee3"
      },
      "source": [
        "print( testH.shape )"
      ],
      "execution_count": 11,
      "outputs": [
        {
          "output_type": "stream",
          "text": [
            "(100, 100, 100, 1)\n"
          ],
          "name": "stdout"
        }
      ]
    },
    {
      "cell_type": "code",
      "metadata": {
        "id": "kowGpdrgoOBw",
        "colab_type": "code",
        "colab": {
          "base_uri": "https://localhost:8080/",
          "height": 35
        },
        "outputId": "4abaf820-a47c-44c7-8e43-135b374d3d32"
      },
      "source": [
        "print( testM.shape )"
      ],
      "execution_count": 12,
      "outputs": [
        {
          "output_type": "stream",
          "text": [
            "(100, 100, 100, 1)\n"
          ],
          "name": "stdout"
        }
      ]
    },
    {
      "cell_type": "code",
      "metadata": {
        "id": "Fx6E8ko73uyc",
        "colab_type": "code",
        "colab": {}
      },
      "source": [
        "train = getHour( train_A_labels2 )"
      ],
      "execution_count": 0,
      "outputs": []
    },
    {
      "cell_type": "code",
      "metadata": {
        "id": "2sl3qFAj3147",
        "colab_type": "code",
        "colab": {}
      },
      "source": [
        "print( train[60] )"
      ],
      "execution_count": 0,
      "outputs": []
    },
    {
      "cell_type": "code",
      "metadata": {
        "id": "v9M4Aaobph33",
        "colab_type": "code",
        "colab": {}
      },
      "source": [
        "test = getHour( test_A_labels2 )"
      ],
      "execution_count": 0,
      "outputs": []
    },
    {
      "cell_type": "code",
      "metadata": {
        "id": "rzGQaEmep-X7",
        "colab_type": "code",
        "colab": {
          "base_uri": "https://localhost:8080/",
          "height": 35
        },
        "outputId": "bd520d7d-3851-42ed-c1b4-85a7005835bb"
      },
      "source": [
        "print( test[60] )"
      ],
      "execution_count": 14,
      "outputs": [
        {
          "output_type": "stream",
          "text": [
            "8\n"
          ],
          "name": "stdout"
        }
      ]
    },
    {
      "cell_type": "code",
      "metadata": {
        "id": "YC6ti13mqAFx",
        "colab_type": "code",
        "colab": {}
      },
      "source": [
        "target_dataset = []\n",
        "target_dataset = keras.utils.to_categorical( train, 12 )\n",
        "print( target_dataset[0] )\n",
        "print( target_dataset.shape )"
      ],
      "execution_count": 0,
      "outputs": []
    },
    {
      "cell_type": "code",
      "metadata": {
        "id": "jVOVatEoquvB",
        "colab_type": "code",
        "colab": {}
      },
      "source": [
        "print( target_dataset[60] )"
      ],
      "execution_count": 0,
      "outputs": []
    },
    {
      "cell_type": "code",
      "metadata": {
        "id": "Ljet5rI64IxI",
        "colab_type": "code",
        "colab": {
          "base_uri": "https://localhost:8080/",
          "height": 54
        },
        "outputId": "7799a4e1-1936-4e1d-f6a5-400acdf21863"
      },
      "source": [
        "y_test = []\n",
        "y_test = keras.utils.to_categorical( test, 12 )\n",
        "print( y_test[0] )\n",
        "print( y_test.shape )"
      ],
      "execution_count": 15,
      "outputs": [
        {
          "output_type": "stream",
          "text": [
            "[0. 0. 0. 0. 0. 0. 0. 0. 0. 1. 0. 0.]\n",
            "(100, 12)\n"
          ],
          "name": "stdout"
        }
      ]
    },
    {
      "cell_type": "code",
      "metadata": {
        "id": "G-Et0U10q4qw",
        "colab_type": "code",
        "colab": {}
      },
      "source": [
        "def loadImages( file ):\n",
        "  imgs = []\n",
        "  for images in file:\n",
        "    img = image.load_img( images, target_size =( 100, 100 ), color_mode = \"grayscale\" )\n",
        "    image_tensor = image.img_to_array( img )\n",
        "    image_tensor = np.expand_dims( image_tensor, axis = 0 )\n",
        "    image_tensor /= 255.0\n",
        "    imgs.append(image_tensor)\n",
        "\n",
        "  imgs = np.concatenate(imgs, axis = 0)\n",
        "  \n",
        "  return imgs"
      ],
      "execution_count": 0,
      "outputs": []
    },
    {
      "cell_type": "code",
      "metadata": {
        "id": "KDIk8UGz4XeA",
        "colab_type": "code",
        "colab": {}
      },
      "source": [
        "train_imgs = []\n",
        "train_imgs = loadImages( image_analog )"
      ],
      "execution_count": 0,
      "outputs": []
    },
    {
      "cell_type": "code",
      "metadata": {
        "id": "n1ohku8S4nRf",
        "colab_type": "code",
        "colab": {}
      },
      "source": [
        "plt.matshow( train_imgs[0, :, :, 0] )"
      ],
      "execution_count": 0,
      "outputs": []
    },
    {
      "cell_type": "code",
      "metadata": {
        "id": "5fYQjZHN4y_z",
        "colab_type": "code",
        "colab": {}
      },
      "source": [
        "dataset = []\n",
        "dataset = np.concatenate( [ train_imgs, tH, tM ], axis = -1 )"
      ],
      "execution_count": 0,
      "outputs": []
    },
    {
      "cell_type": "code",
      "metadata": {
        "id": "iR7ReOcw5B4n",
        "colab_type": "code",
        "colab": {}
      },
      "source": [
        "print( dataset.shape )"
      ],
      "execution_count": 0,
      "outputs": []
    },
    {
      "cell_type": "code",
      "metadata": {
        "id": "ljJ9v456rTpM",
        "colab_type": "code",
        "colab": {}
      },
      "source": [
        "images = []\n",
        "images = loadImages( test_img_analog )"
      ],
      "execution_count": 0,
      "outputs": []
    },
    {
      "cell_type": "code",
      "metadata": {
        "id": "pJRJQZfVrZ4V",
        "colab_type": "code",
        "colab": {
          "base_uri": "https://localhost:8080/",
          "height": 294
        },
        "outputId": "e2c66b13-c8a0-4e3d-c182-8de3244b7077"
      },
      "source": [
        "plt.matshow( images[0, :, :, 0] )"
      ],
      "execution_count": 18,
      "outputs": [
        {
          "output_type": "execute_result",
          "data": {
            "text/plain": [
              "<matplotlib.image.AxesImage at 0x7f33854641d0>"
            ]
          },
          "metadata": {
            "tags": []
          },
          "execution_count": 18
        },
        {
          "output_type": "display_data",
          "data": {
            "image/png": "[encoded data removed]",
            "text/plain": [
              "<Figure size 288x288 with 1 Axes>"
            ]
          },
          "metadata": {
            "tags": []
          }
        }
      ]
    },
    {
      "cell_type": "code",
      "metadata": {
        "id": "n71vR9wZs1j9",
        "colab_type": "code",
        "colab": {}
      },
      "source": [
        "x_test = []\n",
        "x_test = np.concatenate( [ images, testH, testM ], axis = -1 )"
      ],
      "execution_count": 0,
      "outputs": []
    },
    {
      "cell_type": "code",
      "metadata": {
        "id": "DDPFI81ZtBK6",
        "colab_type": "code",
        "colab": {
          "base_uri": "https://localhost:8080/",
          "height": 35
        },
        "outputId": "9dc71ce1-ad9c-45e2-c945-7221d6082dff"
      },
      "source": [
        "print( x_test.shape )"
      ],
      "execution_count": 20,
      "outputs": [
        {
          "output_type": "stream",
          "text": [
            "(100, 100, 100, 3)\n"
          ],
          "name": "stdout"
        }
      ]
    },
    {
      "cell_type": "code",
      "metadata": {
        "id": "OWzd0sAS5WyE",
        "colab_type": "code",
        "colab": {}
      },
      "source": [
        "from sklearn.utils import shuffle\n",
        "\n",
        "dataset, target_dataset = shuffle(dataset, target_dataset)"
      ],
      "execution_count": 0,
      "outputs": []
    },
    {
      "cell_type": "code",
      "metadata": {
        "id": "32lVoha75XtX",
        "colab_type": "code",
        "colab": {}
      },
      "source": [
        "\n",
        "k = 4\n",
        "num_val_samples = 720 // k\n",
        "num_scores = []\n",
        "\n",
        "for i in range( k ):\n",
        "  print( 'processing fold #', i )\n",
        "  val_data = dataset[ ( i * num_val_samples ) :  (i + 1) * num_val_samples ]\n",
        "  val_targets = target_dataset[ i * num_val_samples: (i + 1) * num_val_samples ]\n",
        "  \n",
        "  partial_train_data = np.concatenate(\n",
        "    [ dataset[ :i * num_val_samples ],\n",
        "     dataset[ ( i + 1 ) * num_val_samples: ] ],\n",
        "    axis = 0 )\n",
        "  \n",
        "  partial_train_targets = np.concatenate(\n",
        "    [ target_dataset[ :i * num_val_samples ],\n",
        "     target_dataset[ ( i + 1 ) * num_val_samples: ] ],\n",
        "    axis = 0 )\n",
        "\n",
        "  \n",
        "x_input = partial_train_data\n",
        "y_output = partial_train_targets\n",
        "x_val = val_data\n",
        "y_val = val_targets"
      ],
      "execution_count": 0,
      "outputs": []
    },
    {
      "cell_type": "code",
      "metadata": {
        "id": "iOPgq9yt5alY",
        "colab_type": "code",
        "colab": {}
      },
      "source": [
        "print( \"x_input shape: \", x_input.shape )\n",
        "print( \"y_output shape: \", y_output.shape )\n",
        "print( \"x_val shape: \", x_val.shape )\n",
        "print( \"y_val shape: \", y_val.shape )"
      ],
      "execution_count": 0,
      "outputs": []
    },
    {
      "cell_type": "code",
      "metadata": {
        "id": "uuCVPzQ25csg",
        "colab_type": "code",
        "colab": {}
      },
      "source": [
        "plt.imshow(x_input[0, :, :, 0])\n",
        "plt.show()\n",
        "plt.imshow(x_val[0, :, :, 0])\n",
        "plt.show()\n",
        "print(y_val[0])\n",
        "print(x_input[0, :5, :5, 0])\n",
        "print(x_val[0, :5, :5, 0])\n",
        "print(y_val[0])\n",
        "print(y_val[100])"
      ],
      "execution_count": 0,
      "outputs": []
    },
    {
      "cell_type": "code",
      "metadata": {
        "id": "38XNDxy-5mvN",
        "colab_type": "code",
        "colab": {}
      },
      "source": [
        "def residual_unit( inputs, filters, kernel, drop_out = 0.0, pooling = False ):\n",
        "  res = inputs\n",
        "  \n",
        "  if pooling == True:\n",
        "    res = Conv2D( filters, kernel_size = 1, strides = ( 2, 2) )( res )\n",
        "    inputs = MaxPooling2D( pool_size = ( 2, 2 ) )(inputs)\n",
        "    \n",
        "  inputs = BatchNormalization()( inputs )\n",
        "  inputs = Conv2D( filters, kernel, padding = 'same' )( inputs )\n",
        "  inputs = Activation( \"relu\" )( inputs )\n",
        "  inputs = Dropout( drop_out )( inputs )\n",
        "  \n",
        "  inputs = BatchNormalization()( inputs )\n",
        "  inputs = Conv2D( filters, kernel, padding = 'same' )( inputs )\n",
        "  inputs = Activation( \"relu\" )( inputs )\n",
        "  \n",
        "  inputs = keras.layers.add( [ inputs, res ] )\n",
        "  \n",
        "  return inputs\n"
      ],
      "execution_count": 0,
      "outputs": []
    },
    {
      "cell_type": "code",
      "metadata": {
        "id": "JpjBgu5v5pgN",
        "colab_type": "code",
        "colab": {}
      },
      "source": [
        "input_shape = Input( shape = x_input[ 0, :, :, :].shape )\n",
        "\n",
        "inputs = input_shape\n",
        "\n",
        "inputs = Conv2D( 16, 3, padding = 'same' )( inputs )\n",
        "inputs = residual_unit( inputs, 16, 3 )\n",
        "\n",
        "inputs = residual_unit( inputs, 32, 3, 0.3, True )\n",
        "inputs = residual_unit( inputs, 32, 3 )\n",
        "\n",
        "inputs = residual_unit( inputs, 64, 3, 0.3, True )\n",
        "inputs = residual_unit( inputs, 64, 3 )\n",
        "\n",
        "inputs = BatchNormalization()( inputs )\n",
        "inputs = Conv2D( 128, 3 )( inputs )\n",
        "inputs = Activation( \"relu\" )( inputs )\n",
        "\n",
        "inputs = Flatten()( inputs )\n",
        "inputs = Dense( 128 )( inputs )\n",
        "inputs = Activation( \"sigmoid\" )( inputs )\n",
        "inputs = Dense( 64 )( inputs )\n",
        "inputs = Activation( \"sigmoid\" )( inputs )\n",
        "inputs = Dense( 32 )( inputs )\n",
        "inputs = Activation( \"sigmoid\" )( inputs )\n",
        "inputs = Dense( 12 )( inputs )\n",
        "prediction = Activation( \"softmax\" )( inputs )\n",
        "model = Model( input_shape, prediction )\n",
        "\n",
        "\n",
        "a = keras.callbacks.ModelCheckpoint( filepath='/content/drive/My Drive/cody_clock_ai_v0.1.h5', monitor='val_acc', save_best_only=True )\n",
        "b = keras.callbacks.EarlyStopping( monitor = 'val_acc', patience = 100 )\n",
        "\n",
        "model.compile(optimizer = 'adam', \n",
        "              loss = 'categorical_crossentropy',\n",
        "              metrics = ['accuracy'])\n",
        "history = model.fit( x_input , y_output, epochs=1000, batch_size = 200, \n",
        "              callbacks = [ a, b ], validation_data = ( x_val, y_val ) )"
      ],
      "execution_count": 0,
      "outputs": []
    },
    {
      "cell_type": "code",
      "metadata": {
        "id": "lqkoUYNY5rLz",
        "colab_type": "code",
        "colab": {}
      },
      "source": [
        "acc = history.history['acc']\n",
        "val_acc = history.history['val_acc']\n",
        "loss = history.history['loss']\n",
        "val_loss = history.history['val_loss']\n",
        "\n",
        "epochs = range(len(acc))\n",
        "plt.plot(epochs, acc, 'bo', label='Training acc')\n",
        "plt.plot(epochs, val_acc, 'b', label='Validation acc')\n",
        "plt.title('Training and validation accuracy')\n",
        "plt.legend()\n",
        "\n",
        "plt.figure()\n",
        "\n",
        "plt.plot(epochs, loss, 'bo', label='Training loss')\n",
        "plt.plot(epochs, val_loss, 'b', label='Validation loss')\n",
        "plt.title('Training and validation loss')\n",
        "plt.legend()\n",
        "\n",
        "plt.show()"
      ],
      "execution_count": 0,
      "outputs": []
    },
    {
      "cell_type": "code",
      "metadata": {
        "id": "1zKOtGDh5ynH",
        "colab_type": "code",
        "colab": {
          "base_uri": "https://localhost:8080/",
          "height": 201
        },
        "outputId": "1146edc3-fadc-409f-ee4a-e0bd13766ed8"
      },
      "source": [
        "model_demo = load_model( '/content/drive/My Drive/cody_clock_ai_v0.1.h5' )"
      ],
      "execution_count": 22,
      "outputs": [
        {
          "output_type": "stream",
          "text": [
            "WARNING:tensorflow:From /usr/local/lib/python3.6/dist-packages/tensorflow/python/framework/op_def_library.py:263: colocate_with (from tensorflow.python.framework.ops) is deprecated and will be removed in a future version.\n",
            "Instructions for updating:\n",
            "Colocations handled automatically by placer.\n",
            "WARNING:tensorflow:From /usr/local/lib/python3.6/dist-packages/keras/backend/tensorflow_backend.py:3445: calling dropout (from tensorflow.python.ops.nn_ops) with keep_prob is deprecated and will be removed in a future version.\n",
            "Instructions for updating:\n",
            "Please use `rate` instead of `keep_prob`. Rate should be set to `rate = 1 - keep_prob`.\n",
            "WARNING:tensorflow:From /usr/local/lib/python3.6/dist-packages/tensorflow/python/ops/math_ops.py:3066: to_int32 (from tensorflow.python.ops.math_ops) is deprecated and will be removed in a future version.\n",
            "Instructions for updating:\n",
            "Use tf.cast instead.\n"
          ],
          "name": "stdout"
        }
      ]
    },
    {
      "cell_type": "code",
      "metadata": {
        "id": "duKR9g7554JC",
        "colab_type": "code",
        "colab": {}
      },
      "source": [
        "from sklearn.utils import shuffle\n",
        "\n",
        "x_test, y_test = shuffle(x_test, y_test)"
      ],
      "execution_count": 0,
      "outputs": []
    },
    {
      "cell_type": "code",
      "metadata": {
        "id": "H1J9VU2w50-h",
        "colab_type": "code",
        "colab": {
          "base_uri": "https://localhost:8080/",
          "height": 72
        },
        "outputId": "0f36dae1-bf59-4a28-c786-a01c24ab505f"
      },
      "source": [
        "score = model_demo.evaluate( x_test, y_test )\n",
        "print( \"\\n%s: %.2f%%\" % ( model_demo.metrics_names[1], score[1]*100 ) )"
      ],
      "execution_count": 24,
      "outputs": [
        {
          "output_type": "stream",
          "text": [
            "100/100 [==============================] - 4s 39ms/step\n",
            "\n",
            "acc: 100.00%\n"
          ],
          "name": "stdout"
        }
      ]
    },
    {
      "cell_type": "code",
      "metadata": {
        "id": "J3A5QOMCBFXQ",
        "colab_type": "code",
        "colab": {}
      },
      "source": [
        "p = model_demo.predict(x_test[1:2])"
      ],
      "execution_count": 0,
      "outputs": []
    },
    {
      "cell_type": "code",
      "metadata": {
        "id": "BmrcgK9CBOla",
        "colab_type": "code",
        "colab": {
          "base_uri": "https://localhost:8080/",
          "height": 35
        },
        "outputId": "e989d8a7-2e38-4902-bee0-5309c34b1712"
      },
      "source": [
        "print(p.round())"
      ],
      "execution_count": 34,
      "outputs": [
        {
          "output_type": "stream",
          "text": [
            "[[0. 0. 0. 0. 0. 0. 0. 0. 0. 0. 0. 1.]]\n"
          ],
          "name": "stdout"
        }
      ]
    },
    {
      "cell_type": "code",
      "metadata": {
        "id": "RYPBjirvBypU",
        "colab_type": "code",
        "colab": {
          "base_uri": "https://localhost:8080/",
          "height": 35
        },
        "outputId": "8c05c00b-eb28-4a9f-d224-38134ea408b4"
      },
      "source": [
        "print(y_test[1:2])"
      ],
      "execution_count": 33,
      "outputs": [
        {
          "output_type": "stream",
          "text": [
            "[[0. 0. 0. 0. 0. 0. 0. 0. 0. 0. 0. 1.]]\n"
          ],
          "name": "stdout"
        }
      ]
    },
    {
      "cell_type": "code",
      "metadata": {
        "id": "Ap42TXjTBcLA",
        "colab_type": "code",
        "colab": {}
      },
      "source": [
        ""
      ],
      "execution_count": 0,
      "outputs": []
    }
  ]
}