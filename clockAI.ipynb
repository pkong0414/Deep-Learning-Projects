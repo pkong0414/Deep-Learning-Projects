{
  "nbformat": 4,
  "nbformat_minor": 0,
  "metadata": {
    "colab": {
      "name": "clockAI.ipynb",
      "version": "0.3.2",
      "provenance": []
    },
    "language_info": {
      "codemirror_mode": {
        "name": "ipython",
        "version": 3
      },
      "file_extension": ".py",
      "mimetype": "text/x-python",
      "name": "python",
      "nbconvert_exporter": "python",
      "pygments_lexer": "ipython3",
      "version": "3.6.5"
    },
    "kernelspec": {
      "display_name": "Python 3",
      "language": "python",
      "name": "python3"
    }
  },
  "cells": [
    {
      "metadata": {
        "id": "BtPUY1vRJLsW",
        "colab_type": "code",
        "colab": {}
      },
      "cell_type": "code",
      "source": [
        "#importing library\n",
        "\n",
        "import keras\n",
        "import os, shutil\n",
        "from keras.preprocessing import image\n",
        "from keras.preprocessing.image import ImageDataGenerator\n",
        "import matplotlib.pyplot as plt\n",
        "\n",
        "#use this when you use google colab only!\n",
        "#from google.colab import files\n",
        "from PIL import Image"
      ],
      "execution_count": 0,
      "outputs": []
    },
    {
      "metadata": {
        "id": "gtHE_cTUJLsZ",
        "colab_type": "code",
        "colab": {},
        "outputId": "6b37e397-cac0-4988-9182-884cf7464a9a"
      },
      "cell_type": "code",
      "source": [
        "'''\n",
        "    Created by: Patrick Kong\n",
        "                Cody Hawkings\n",
        "                \n",
        "    clockAI project\n",
        "    \n",
        "    This clock ai would aim to use computervision in order to read a clock's time.\n",
        "    It would be able to read digital and more importantly analog clocks.\n",
        "    \n",
        "    We will be using google colab for this project.\n",
        "        \n",
        "'''\n",
        "\n",
        "#loading files to use\n",
        "uploaded = files.upload('C:\\Users\\Patrick\\Desktop\\test images for ai project')"
      ],
      "execution_count": 0,
      "outputs": [
        {
          "output_type": "error",
          "ename": "SyntaxError",
          "evalue": "(unicode error) 'unicodeescape' codec can't decode bytes in position 2-3: truncated \\UXXXXXXXX escape (<ipython-input-5-f01e1f6c014e>, line 15)",
          "traceback": [
            "\u001b[1;36m  File \u001b[1;32m\"<ipython-input-5-f01e1f6c014e>\"\u001b[1;36m, line \u001b[1;32m15\u001b[0m\n\u001b[1;33m    uploaded = files.upload('C:\\Users\\Patrick\\Desktop\\test images for ai project')\u001b[0m\n\u001b[1;37m                           ^\u001b[0m\n\u001b[1;31mSyntaxError\u001b[0m\u001b[1;31m:\u001b[0m (unicode error) 'unicodeescape' codec can't decode bytes in position 2-3: truncated \\UXXXXXXXX escape\n"
          ]
        }
      ]
    },
    {
      "metadata": {
        "id": "Nf9e7NiDJLse",
        "colab_type": "code",
        "colab": {}
      },
      "cell_type": "code",
      "source": [
        "#loading image to img\n",
        "img = image.load_img('dog-2109.jpg', target_size=(150, 150))"
      ],
      "execution_count": 0,
      "outputs": []
    },
    {
      "metadata": {
        "id": "fNJogPyTJLsh",
        "colab_type": "code",
        "colab": {}
      },
      "cell_type": "code",
      "source": [
        "#outputing image\n",
        "plt.imshow(img)"
      ],
      "execution_count": 0,
      "outputs": []
    },
    {
      "metadata": {
        "id": "36p2_d3NJLsj",
        "colab_type": "code",
        "colab": {}
      },
      "cell_type": "code",
      "source": [
        "#outputing image in greyscale\n",
        "plt.matshow( img, cmap = 'gray')\n",
        "plt.show()"
      ],
      "execution_count": 0,
      "outputs": []
    },
    {
      "metadata": {
        "id": "gfZ4E9qOJLsn",
        "colab_type": "code",
        "colab": {}
      },
      "cell_type": "code",
      "source": [
        "#outputing image in an array format\n",
        "\n",
        "print(img[:, :])\n"
      ],
      "execution_count": 0,
      "outputs": []
    },
    {
      "metadata": {
        "id": "Fgn0IQGxJLsq",
        "colab_type": "code",
        "colab": {}
      },
      "cell_type": "code",
      "source": [
        "#data gen\n",
        "\n",
        "#data augment\n",
        "\n",
        "#functions\n",
        "\n"
      ],
      "execution_count": 0,
      "outputs": []
    }
  ]
}