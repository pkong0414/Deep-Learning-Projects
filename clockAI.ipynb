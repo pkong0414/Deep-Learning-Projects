{
  "nbformat": 4,
  "nbformat_minor": 0,
  "metadata": {
    "colab": {
      "name": "clockAI.ipynb",
      "version": "0.3.2",
      "provenance": [],
      "include_colab_link": true
    },
    "language_info": {
      "codemirror_mode": {
        "name": "ipython",
        "version": 3
      },
      "file_extension": ".py",
      "mimetype": "text/x-python",
      "name": "python",
      "nbconvert_exporter": "python",
      "pygments_lexer": "ipython3",
      "version": "3.6.5"
    },
    "kernelspec": {
      "display_name": "Python 3",
      "language": "python",
      "name": "python3"
    }
  },
  "cells": [
    {
      "cell_type": "markdown",
      "metadata": {
        "id": "view-in-github",
        "colab_type": "text"
      },
      "source": [
        "<a href=\"https://colab.research.google.com/github/pkong0414/Deep-Learning-Projects/blob/master/clockAI.ipynb\" target=\"_parent\"><img src=\"https://colab.research.google.com/assets/colab-badge.svg\" alt=\"Open In Colab\"/></a>"
      ]
    },
    {
      "metadata": {
        "id": "BtPUY1vRJLsW",
        "colab_type": "code",
        "colab": {}
      },
      "cell_type": "code",
      "source": [
        "#importing library\n",
        "\n",
        "import keras\n",
        "import os, shutil\n",
        "from keras.preprocessing import image\n",
        "from keras.preprocessing.image import ImageDataGenerator\n",
        "import matplotlib.pyplot as plt\n",
        "\n",
        "use this when you use google colab only!\n",
        "from google.colab import files\n",
        "from PIL import Image"
      ],
      "execution_count": 0,
      "outputs": []
    },
    {
      "metadata": {
        "id": "BhK4eWmx_pHn",
        "colab_type": "text"
      },
      "cell_type": "markdown",
      "source": [
        "Created by: Patrick Kong\n",
        "                Cody Hawkings\n",
        "                \n",
        "    clockAI project:\n",
        "    \n",
        "    This clock ai would aim to use computervision in order to read a clock's time.\n",
        "    It would be able to read digital and more importantly analog clocks.\n",
        "    \n",
        "    We will be using google colab for this project."
      ]
    },
    {
      "metadata": {
        "id": "gtHE_cTUJLsZ",
        "colab_type": "code",
        "outputId": "6b37e397-cac0-4988-9182-884cf7464a9a",
        "colab": {}
      },
      "cell_type": "code",
      "source": [
        "#loading files to use\n",
        "uploaded = files.upload('C:\\Users\\Patrick\\Desktop\\test images for ai project')"
      ],
      "execution_count": 0,
      "outputs": [
        {
          "output_type": "error",
          "ename": "SyntaxError",
          "evalue": "(unicode error) 'unicodeescape' codec can't decode bytes in position 2-3: truncated \\UXXXXXXXX escape (<ipython-input-5-f01e1f6c014e>, line 15)",
          "traceback": [
            "\u001b[1;36m  File \u001b[1;32m\"<ipython-input-5-f01e1f6c014e>\"\u001b[1;36m, line \u001b[1;32m15\u001b[0m\n\u001b[1;33m    uploaded = files.upload('C:\\Users\\Patrick\\Desktop\\test images for ai project')\u001b[0m\n\u001b[1;37m                           ^\u001b[0m\n\u001b[1;31mSyntaxError\u001b[0m\u001b[1;31m:\u001b[0m (unicode error) 'unicodeescape' codec can't decode bytes in position 2-3: truncated \\UXXXXXXXX escape\n"
          ]
        }
      ]
    },
    {
      "metadata": {
        "id": "Nf9e7NiDJLse",
        "colab_type": "code",
        "colab": {}
      },
      "cell_type": "code",
      "source": [
        "#loading image to img\n",
        "img = image.load_img('dog-2109.jpg', target_size=(150, 150))"
      ],
      "execution_count": 0,
      "outputs": []
    },
    {
      "metadata": {
        "id": "mpXsURMG8bno",
        "colab_type": "text"
      },
      "cell_type": "markdown",
      "source": [
        "Loading image into img.\n",
        "\n",
        "target size was originally supposed to be 28x28 but the image is too blurry. Will try to make image a bit bigger, maybe 50x50.\n",
        "\n",
        "Currently we are using 150x150."
      ]
    },
    {
      "metadata": {
        "id": "fNJogPyTJLsh",
        "colab_type": "code",
        "colab": {}
      },
      "cell_type": "code",
      "source": [
        "#outputing image\n",
        "plt.imshow(img)"
      ],
      "execution_count": 0,
      "outputs": []
    },
    {
      "metadata": {
        "id": "gCz-lQBR8h7z",
        "colab_type": "text"
      },
      "cell_type": "markdown",
      "source": [
        "printing img to display input."
      ]
    },
    {
      "metadata": {
        "id": "36p2_d3NJLsj",
        "colab_type": "code",
        "colab": {}
      },
      "cell_type": "code",
      "source": [
        "#outputing image in greyscale\n",
        "plt.matshow( img, cmap = 'gray')\n",
        "plt.show()"
      ],
      "execution_count": 0,
      "outputs": []
    },
    {
      "metadata": {
        "id": "9yw5hHgd899c",
        "colab_type": "text"
      },
      "cell_type": "markdown",
      "source": [
        "using grayscale to make things easier."
      ]
    },
    {
      "metadata": {
        "id": "gfZ4E9qOJLsn",
        "colab_type": "code",
        "colab": {}
      },
      "cell_type": "code",
      "source": [
        "#outputing image in an array format\n",
        "\n",
        "print(img[:, :])\n"
      ],
      "execution_count": 0,
      "outputs": []
    },
    {
      "metadata": {
        "id": "jDgbQmoD8o46",
        "colab_type": "text"
      },
      "cell_type": "markdown",
      "source": [
        "visualizing input in an array format."
      ]
    },
    {
      "metadata": {
        "id": "Fgn0IQGxJLsq",
        "colab_type": "code",
        "colab": {}
      },
      "cell_type": "code",
      "source": [
        "#data gen\n",
        "\n",
        "#data augment\n",
        "\n",
        "#functions\n",
        "loading_dataset(){\n",
        "    \n",
        "    \n",
        "    \n",
        "    \n",
        "}\n",
        "\n",
        "\n",
        "\n",
        "#main function\n",
        "input, output = \n",
        "\n"
      ],
      "execution_count": 0,
      "outputs": []
    },
    {
      "metadata": {
        "id": "RLurvC5Y8sut",
        "colab_type": "text"
      },
      "cell_type": "markdown",
      "source": [
        "Gameplan is to use polar coordinates in order to give an additional feature to the learning model during training.\n",
        "\n",
        "Initially considered using pixels to calculate theta since arctan( y / x ) will give us the angle of the clock hand.\n",
        "However, since the pixels were blurry compounded by the fact that the conditions to make theta happen is complex, an alternative was considered.\n",
        "\n",
        "Rather than use X and Y to calculate theta, the idea is then to use degree of 360 and divide by units of 60 ( which represent the minutes ). This gives us 6 degrees of movement per minute. \n",
        "\n",
        "Same idea will be applied to the hour-hand cause this would be the one that gives the model problem since the hour-hand moves as the minute hand moves and makes things a little harder to do for the hour identification."
      ]
    }
  ]
}