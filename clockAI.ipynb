{
  "nbformat": 4,
  "nbformat_minor": 0,
  "metadata": {
    "colab": {
      "name": "clockAI.ipynb",
      "version": "0.3.2",
      "provenance": [],
      "include_colab_link": true
    },
    "language_info": {
      "codemirror_mode": {
        "name": "ipython",
        "version": 3
      },
      "file_extension": ".py",
      "mimetype": "text/x-python",
      "name": "python",
      "nbconvert_exporter": "python",
      "pygments_lexer": "ipython3",
      "version": "3.6.5"
    },
    "kernelspec": {
      "name": "python3",
      "display_name": "Python 3"
    },
    "accelerator": "GPU"
  },
  "cells": [
    {
      "cell_type": "markdown",
      "metadata": {
        "id": "view-in-github",
        "colab_type": "text"
      },
      "source": [
        "<a href=\"https://colab.research.google.com/github/pkong0414/Deep-Learning-Projects/blob/master/clockAI.ipynb\" target=\"_parent\"><img src=\"https://colab.research.google.com/assets/colab-badge.svg\" alt=\"Open In Colab\"/></a>"
      ]
    },
    {
      "metadata": {
        "id": "BtPUY1vRJLsW",
        "colab_type": "code",
        "outputId": "0d585462-5ea2-466a-ea70-95dbfa056882",
        "colab": {
          "base_uri": "https://localhost:8080/",
          "height": 34
        }
      },
      "cell_type": "code",
      "source": [
        "#importing library\n",
        "\n",
        "import keras\n",
        "import os, shutil\n",
        "from keras.preprocessing import image\n",
        "from keras.preprocessing.image import ImageDataGenerator\n",
        "import matplotlib.image as mpimg\n",
        "import matplotlib.pyplot as plt\n",
        "\n",
        "#use this when you use google colab only!\n",
        "from google.colab import files, drive\n",
        "import glob\n",
        "from PIL import Image"
      ],
      "execution_count": 1,
      "outputs": [
        {
          "output_type": "stream",
          "text": [
            "Using TensorFlow backend.\n"
          ],
          "name": "stderr"
        }
      ]
    },
    {
      "metadata": {
        "id": "BhK4eWmx_pHn",
        "colab_type": "text"
      },
      "cell_type": "markdown",
      "source": [
        "Created by: Patrick Kong, Cody Hawkings\n",
        "                \n",
        "    clockAI project:\n",
        "    \n",
        "    This clock ai would aim to use computervision in order to read a clock's time.\n",
        "    It would be able to read digital and more importantly analog clocks.\n",
        "    \n",
        "    We will be using google colab for this project."
      ]
    },
    {
      "metadata": {
        "id": "gtHE_cTUJLsZ",
        "colab_type": "code",
        "outputId": "d04a68f4-cbef-4d8f-afec-6e83d92c917a",
        "colab": {
          "resources": {
            "http://localhost:8080/nbextensions/google.colab/files.js": {
              "data": "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",
              "ok": true,
              "headers": [
                [
                  "content-type",
                  "application/javascript"
                ]
              ],
              "status": 200,
              "status_text": ""
            }
          },
          "base_uri": "https://localhost:8080/",
          "height": 75
        }
      },
      "cell_type": "code",
      "source": [
        "#loading files to us\n",
        "uploaded = files.upload()"
      ],
      "execution_count": 0,
      "outputs": [
        {
          "output_type": "display_data",
          "data": {
            "text/html": [
              "\n",
              "     <input type=\"file\" id=\"files-b13a7ee5-edf0-4c71-b4f8-7dd198622d61\" name=\"files[]\" multiple disabled />\n",
              "     <output id=\"result-b13a7ee5-edf0-4c71-b4f8-7dd198622d61\">\n",
              "      Upload widget is only available when the cell has been executed in the\n",
              "      current browser session. Please rerun this cell to enable.\n",
              "      </output>\n",
              "      <script src=\"/nbextensions/google.colab/files.js\"></script> "
            ],
            "text/plain": [
              "<IPython.core.display.HTML object>"
            ]
          },
          "metadata": {
            "tags": []
          }
        },
        {
          "output_type": "stream",
          "text": [
            "Saving pic_61.JPG to pic_61.JPG\n"
          ],
          "name": "stdout"
        }
      ]
    },
    {
      "metadata": {
        "id": "Nf9e7NiDJLse",
        "colab_type": "code",
        "colab": {}
      },
      "cell_type": "code",
      "source": [
        "#loading image to img\n",
        "img = image.load_img('pic_61.JPG', target_size=(50, 50))"
      ],
      "execution_count": 0,
      "outputs": []
    },
    {
      "metadata": {
        "id": "mpXsURMG8bno",
        "colab_type": "text"
      },
      "cell_type": "markdown",
      "source": [
        "Loading image into img.\n",
        "\n",
        "target size was originally supposed to be 28x28 but the image is too blurry. Will try to make image a bit bigger, maybe 50x50.\n",
        "\n",
        "50x50 is still too blurry but I think there is enough to work with."
      ]
    },
    {
      "metadata": {
        "id": "fNJogPyTJLsh",
        "colab_type": "code",
        "outputId": "b69846bc-8038-4643-fe7c-8d06c27caab4",
        "colab": {
          "base_uri": "https://localhost:8080/",
          "height": 287
        }
      },
      "cell_type": "code",
      "source": [
        "#outputing image\n",
        "plt.imshow(img)\n"
      ],
      "execution_count": 0,
      "outputs": [
        {
          "output_type": "execute_result",
          "data": {
            "text/plain": [
              "<matplotlib.image.AxesImage at 0x7f2676990940>"
            ]
          },
          "metadata": {
            "tags": []
          },
          "execution_count": 5
        },
        {
          "output_type": "display_data",
          "data": {
            "image/png": "[encoded data removed]",
            "text/plain": [
              "<Figure size 432x288 with 1 Axes>"
            ]
          },
          "metadata": {
            "tags": []
          }
        }
      ]
    },
    {
      "metadata": {
        "id": "gCz-lQBR8h7z",
        "colab_type": "text"
      },
      "cell_type": "markdown",
      "source": [
        "printing img to display input."
      ]
    },
    {
      "metadata": {
        "id": "36p2_d3NJLsj",
        "colab_type": "code",
        "outputId": "4ae8415f-4079-4e30-f2e0-cbdec5b3a8a9",
        "colab": {
          "base_uri": "https://localhost:8080/",
          "height": 163
        }
      },
      "cell_type": "code",
      "source": [
        "#outputing image in greyscale\n",
        "plt.matshow( img, cmap = 'gray')"
      ],
      "execution_count": 0,
      "outputs": [
        {
          "output_type": "error",
          "ename": "NameError",
          "evalue": "ignored",
          "traceback": [
            "\u001b[0;31m---------------------------------------------------------------------------\u001b[0m",
            "\u001b[0;31mNameError\u001b[0m                                 Traceback (most recent call last)",
            "\u001b[0;32m<ipython-input-1-8698ea6b1dd8>\u001b[0m in \u001b[0;36m<module>\u001b[0;34m()\u001b[0m\n\u001b[0;32m----> 1\u001b[0;31m \u001b[0mplt\u001b[0m\u001b[0;34m.\u001b[0m\u001b[0mmatshow\u001b[0m\u001b[0;34m(\u001b[0m \u001b[0mimg\u001b[0m\u001b[0;34m,\u001b[0m \u001b[0mcmap\u001b[0m \u001b[0;34m=\u001b[0m \u001b[0;34m'gray'\u001b[0m\u001b[0;34m)\u001b[0m\u001b[0;34m\u001b[0m\u001b[0;34m\u001b[0m\u001b[0m\n\u001b[0m",
            "\u001b[0;31mNameError\u001b[0m: name 'plt' is not defined"
          ]
        }
      ]
    },
    {
      "metadata": {
        "id": "9yw5hHgd899c",
        "colab_type": "text"
      },
      "cell_type": "markdown",
      "source": [
        "using grayscale to make things easier."
      ]
    },
    {
      "metadata": {
        "id": "gfZ4E9qOJLsn",
        "colab_type": "code",
        "outputId": "112534f7-719d-402a-c093-9041b5a19645",
        "colab": {
          "base_uri": "https://localhost:8080/",
          "height": 35
        }
      },
      "cell_type": "code",
      "source": [
        "#outputing image in an array format\n",
        "\n",
        "print(img)\n"
      ],
      "execution_count": 0,
      "outputs": [
        {
          "output_type": "stream",
          "text": [
            "<PIL.Image.Image image mode=RGB size=50x50 at 0x7F2678B589E8>\n"
          ],
          "name": "stdout"
        }
      ]
    },
    {
      "metadata": {
        "id": "SkSE-t5P3uXT",
        "colab_type": "code",
        "colab": {
          "base_uri": "https://localhost:8080/",
          "height": 122
        },
        "outputId": "ce5c696c-19a8-4985-9089-1a66a2b43125"
      },
      "cell_type": "code",
      "source": [
        "drive.mount('/content/drive')"
      ],
      "execution_count": 3,
      "outputs": [
        {
          "output_type": "stream",
          "text": [
            "Go to this URL in a browser: https://accounts.google.com/o/oauth2/auth?client_id=947318989803-6bn6qk8qdgf4n4g3pfee6491hc0brc4i.apps.googleusercontent.com&redirect_uri=urn%3Aietf%3Awg%3Aoauth%3A2.0%3Aoob&scope=email%20https%3A%2F%2Fwww.googleapis.com%2Fauth%2Fdocs.test%20https%3A%2F%2Fwww.googleapis.com%2Fauth%2Fdrive%20https%3A%2F%2Fwww.googleapis.com%2Fauth%2Fdrive.photos.readonly%20https%3A%2F%2Fwww.googleapis.com%2Fauth%2Fpeopleapi.readonly&response_type=code\n",
            "\n",
            "Enter your authorization code:\n",
            "··········\n",
            "Mounted at /content/drive\n"
          ],
          "name": "stdout"
        }
      ]
    },
    {
      "metadata": {
        "id": "ZthwKK6M30vt",
        "colab_type": "code",
        "colab": {
          "base_uri": "https://localhost:8080/",
          "height": 867
        },
        "outputId": "612ca446-4e64-455d-a178-111dbc0ff8af"
      },
      "cell_type": "code",
      "source": [
        "!ls \"/content/drive/My Drive/Colab Notebooks/Clocks/Analog Clock/train\""
      ],
      "execution_count": 12,
      "outputs": [
        {
          "output_type": "stream",
          "text": [
            "pic_100.JPG  pic_146.JPG  pic_191.JPG  pic_236.JPG  pic_281.JPG  pic_326.JPG\n",
            "pic_101.JPG  pic_147.JPG  pic_192.JPG  pic_237.JPG  pic_282.JPG  pic_327.JPG\n",
            "pic_102.JPG  pic_148.JPG  pic_193.JPG  pic_238.JPG  pic_283.JPG  pic_328.JPG\n",
            "pic_103.JPG  pic_149.JPG  pic_194.JPG  pic_239.JPG  pic_284.JPG  pic_329.JPG\n",
            "pic_104.JPG  pic_14.JPG   pic_195.JPG  pic_23.JPG   pic_285.JPG  pic_32.JPG\n",
            "pic_105.JPG  pic_150.JPG  pic_196.JPG  pic_240.JPG  pic_286.JPG  pic_330.JPG\n",
            "pic_106.JPG  pic_151.JPG  pic_197.JPG  pic_241.JPG  pic_287.JPG  pic_331.JPG\n",
            "pic_107.JPG  pic_152.JPG  pic_198.JPG  pic_242.JPG  pic_288.JPG  pic_332.JPG\n",
            "pic_108.JPG  pic_153.JPG  pic_199.JPG  pic_243.JPG  pic_289.JPG  pic_333.JPG\n",
            "pic_109.JPG  pic_154.JPG  pic_19.JPG   pic_244.JPG  pic_28.JPG\t pic_334.JPG\n",
            "pic_10.JPG   pic_155.JPG  pic_1.JPG    pic_245.JPG  pic_290.JPG  pic_335.JPG\n",
            "pic_110.JPG  pic_156.JPG  pic_200.JPG  pic_246.JPG  pic_291.JPG  pic_336.JPG\n",
            "pic_111.JPG  pic_157.JPG  pic_201.JPG  pic_247.JPG  pic_292.JPG  pic_337.JPG\n",
            "pic_112.JPG  pic_158.JPG  pic_202.JPG  pic_248.JPG  pic_293.JPG  pic_338.JPG\n",
            "pic_113.JPG  pic_159.JPG  pic_203.JPG  pic_249.JPG  pic_294.JPG  pic_339.JPG\n",
            "pic_114.JPG  pic_15.JPG   pic_204.JPG  pic_24.JPG   pic_295.JPG  pic_33.JPG\n",
            "pic_115.JPG  pic_160.JPG  pic_205.JPG  pic_250.JPG  pic_296.JPG  pic_340.JPG\n",
            "pic_116.JPG  pic_161.JPG  pic_206.JPG  pic_251.JPG  pic_297.JPG  pic_341.JPG\n",
            "pic_117.JPG  pic_162.JPG  pic_207.JPG  pic_252.JPG  pic_298.JPG  pic_342.JPG\n",
            "pic_118.JPG  pic_163.JPG  pic_208.JPG  pic_253.JPG  pic_299.JPG  pic_343.JPG\n",
            "pic_119.JPG  pic_164.JPG  pic_209.JPG  pic_254.JPG  pic_29.JPG\t pic_344.JPG\n",
            "pic_11.JPG   pic_165.JPG  pic_20.JPG   pic_255.JPG  pic_2.JPG\t pic_345.JPG\n",
            "pic_120.JPG  pic_166.JPG  pic_210.JPG  pic_256.JPG  pic_300.JPG  pic_346.JPG\n",
            "pic_121.JPG  pic_167.JPG  pic_211.JPG  pic_257.JPG  pic_301.JPG  pic_347.JPG\n",
            "pic_122.JPG  pic_168.JPG  pic_212.JPG  pic_258.JPG  pic_302.JPG  pic_348.JPG\n",
            "pic_123.JPG  pic_169.JPG  pic_213.JPG  pic_259.JPG  pic_303.JPG  pic_349.JPG\n",
            "pic_124.JPG  pic_16.JPG   pic_214.JPG  pic_25.JPG   pic_304.JPG  pic_34.JPG\n",
            "pic_125.JPG  pic_170.JPG  pic_215.JPG  pic_260.JPG  pic_305.JPG  pic_350.JPG\n",
            "Pic_126.JPG  pic_171.JPG  pic_216.JPG  pic_261.JPG  pic_306.JPG  pic_351.JPG\n",
            "pic_127.JPG  pic_172.JPG  pic_217.JPG  pic_262.JPG  pic_307.JPG  pic_352.JPG\n",
            "pic_128.JPG  pic_173.JPG  pic_218.JPG  pic_263.JPG  pic_308.JPG  pic_353.JPG\n",
            "pic_129.JPG  pic_174.JPG  pic_219.JPG  pic_264.JPG  pic_309.JPG  pic_354.JPG\n",
            "pic_12.JPG   pic_175.JPG  pic_21.JPG   pic_265.JPG  pic_30.JPG\t pic_355.JPG\n",
            "pic_130.JPG  pic_176.JPG  pic_220.JPG  pic_266.JPG  pic_310.JPG  pic_356.JPG\n",
            "pic_131.JPG  pic_177.JPG  pic_221.JPG  pic_267.JPG  pic_311.JPG  pic_357.JPG\n",
            "pic_132.JPG  pic_178.JPG  pic_222.JPG  pic_268.JPG  pic_312.JPG  pic_358.JPG\n",
            "pic_133.JPG  pic_179.JPG  pic_223.JPG  pic_269.JPG  pic_313.JPG  pic_359.JPG\n",
            "pic_134.JPG  pic_17.JPG   pic_224.JPG  pic_26.JPG   pic_314.JPG  pic_35.JPG\n",
            "pic_135.JPG  pic_180.JPG  pic_225.JPG  pic_270.JPG  pic_315.JPG  pic_360.JPG\n",
            "pic_136.JPG  pic_181.JPG  pic_226.JPG  pic_271.JPG  pic_316.JPG  pic_361.JPG\n",
            "pic_137.JPG  pic_182.JPG  pic_227.JPG  pic_272.JPG  pic_317.JPG  pic_362.JPG\n",
            "pic_138.JPG  pic_183.JPG  pic_228.JPG  pic_273.JPG  pic_318.JPG  pic_36.JPG\n",
            "pic_139.JPG  pic_184.JPG  pic_229.JPG  pic_274.JPG  pic_319.JPG  pic_3.JPG\n",
            "pic_13.JPG   pic_185.JPG  pic_22.JPG   pic_275.JPG  pic_31.JPG\t pic_61.JPG\n",
            "pic_140.JPG  pic_186.JPG  pic_230.JPG  pic_276.JPG  pic_320.JPG  pic_718.JPG\n",
            "pic_141.JPG  pic_187.JPG  pic_231.JPG  pic_277.JPG  pic_321.JPG\n",
            "pic_142.JPG  pic_188.JPG  pic_232.JPG  pic_278.JPG  pic_322.JPG\n",
            "pic_143.JPG  pic_189.JPG  pic_233.JPG  pic_279.JPG  pic_323.JPG\n",
            "pic_144.JPG  pic_18.JPG   pic_234.JPG  pic_27.JPG   pic_324.JPG\n",
            "pic_145.JPG  pic_190.JPG  pic_235.JPG  pic_280.JPG  pic_325.JPG\n"
          ],
          "name": "stdout"
        }
      ]
    },
    {
      "metadata": {
        "id": "5gIa51Tu8Mrl",
        "colab_type": "code",
        "colab": {
          "base_uri": "https://localhost:8080/",
          "height": 119
        },
        "outputId": "e98d8f1e-5bf2-4109-ed77-b2ae41e13db4"
      },
      "cell_type": "code",
      "source": [
        "#file directory for analog\n",
        "base_A_dir = \"/content/drive/My Drive/Colab Notebooks/Clocks/Analog Clock\"\n",
        "\n",
        "#file directory for digital\n",
        "base_D_dir = \"/content/drive/My Drive/Colab Notebooks/Clocks/Digital Clock\"\n",
        "\n",
        "#file directory for target (labels)\n",
        "base_L_dir = \"/content/drive/My Drive/Colab Notebooks/Clocks/test_validation.xlsx\"\n",
        "\n",
        "train_Analog_dir = os.path.join(base_A_dir, 'train')\n",
        "\n",
        "train_Digital_dir = os.path.join(base_D_dir, 'train')\n",
        "\n",
        "train_Label_dir = os.path.join( base_L_dir )\n",
        "\n",
        "print(os.path.isdir(train_Analog_dir))\n",
        "\n",
        "print(len(os.listdir(train_Analog_dir)))\n",
        "\n",
        "print(os.path.isdir(train_Digital_dir))\n",
        "\n",
        "print(len(os.listdir(train_Digital_dir)))\n",
        "\n",
        "print( os.path.isfile( train_Label_dir ) )\n",
        "\n",
        "img_files = \n",
        "print( img )\n",
        "\n",
        "\n",
        "#train_data = train_Analog_\n",
        " "
      ],
      "execution_count": 55,
      "outputs": [
        {
          "output_type": "stream",
          "text": [
            "True\n",
            "719\n",
            "True\n",
            "719\n",
            "True\n",
            "c\n"
          ],
          "name": "stdout"
        }
      ]
    },
    {
      "metadata": {
        "id": "DFwBZBxWDhfv",
        "colab_type": "text"
      },
      "cell_type": "markdown",
      "source": [
        "visualizing input in an array format."
      ]
    },
    {
      "metadata": {
        "id": "ocZN1E8RBYeF",
        "colab_type": "code",
        "colab": {
          "base_uri": "https://localhost:8080/",
          "height": 129
        },
        "outputId": "58941b31-ced9-4507-bd1e-a9be784a1a3a"
      },
      "cell_type": "code",
      "source": [
        "k = 4\n",
        "num_val_samples = len( train_data )\n",
        "num_epochs = 100\n",
        "num_scores = []\n",
        "\n",
        "for i in range( k ):\n",
        "  print( 'processing fold #', i )\n",
        "  val_data = train_data( i * num_val_samples: (i + 1) * num_val_samples )\n",
        "  val_targets = train_targets[ i * num_val_samples: (i + 1) * num_val_samples ]\n",
        "  \n",
        "  partial_train_data = np.concatenate(\n",
        "    [ train_data[ :i * num_val_samples ],\n",
        "     train_data[ ( i + 1 ) * num_val_samples: ] ],\n",
        "    axis = 0 )\n",
        "  \n",
        "  partial_train_targets = np.concatenate(\n",
        "    [ train_targets[ :i * num_val_samples ],\n",
        "     train_targets[ ( i + 1 ) * num_val_samples: ] ],\n",
        "    axis = 0 )\n",
        "  \n",
        "  "
      ],
      "execution_count": 47,
      "outputs": [
        {
          "output_type": "error",
          "ename": "SyntaxError",
          "evalue": "ignored",
          "traceback": [
            "\u001b[0;36m  File \u001b[0;32m\"<ipython-input-47-844dde167f29>\"\u001b[0;36m, line \u001b[0;32m8\u001b[0m\n\u001b[0;31m    val_data = train_data( i * num_val_samples: (i + 1) * num_val_samples )\u001b[0m\n\u001b[0m                                              ^\u001b[0m\n\u001b[0;31mSyntaxError\u001b[0m\u001b[0;31m:\u001b[0m invalid syntax\n"
          ]
        }
      ]
    },
    {
      "metadata": {
        "id": "atjfV07JDRyb",
        "colab_type": "text"
      },
      "cell_type": "markdown",
      "source": [
        "This is the k folding snippet we'll use to get our split our training and validation data."
      ]
    },
    {
      "metadata": {
        "id": "5ZLmxunE84pM",
        "colab_type": "code",
        "colab": {
          "base_uri": "https://localhost:8080/",
          "height": 54
        },
        "outputId": "aa307add-247a-4045-c104-7528924098d4"
      },
      "cell_type": "code",
      "source": [
        "print('total training cat images:', os.listdir( train_Digital_dir ) )"
      ],
      "execution_count": 51,
      "outputs": [
        {
          "output_type": "stream",
          "text": [
            "total training cat images: ['pict_1.JPG', 'pict_10.JPG', 'pict_100.JPG', 'pict_101.JPG', 'pict_109.JPG', 'pict_102.JPG', 'pict_11.JPG', 'pict_110.JPG', 'pict_111.JPG', 'pict_106.JPG', 'pict_108.JPG', 'pict_104.JPG', 'pict_105.JPG', 'pict_107.JPG', 'pict_103.JPG', 'pict_112.JPG', 'pict_113.JPG', 'pict_114.JPG', 'pict_115.JPG', 'pict_116.JPG', 'pict_117.JPG', 'pict_118.JPG', 'pict_124.JPG', 'pict_125.JPG', 'pict_126.JPG', 'pict_127.JPG', 'pict_120.JPG', 'pict_122.JPG', 'pict_12.JPG', 'pict_123.JPG', 'pict_119.JPG', 'pict_121.JPG', 'pict_128.JPG', 'pict_129.JPG', 'pict_13.JPG', 'pict_130.JPG', 'pict_131.JPG', 'pict_132.JPG', 'pict_133.JPG', 'pict_14.JPG', 'pict_140.JPG', 'pict_141.JPG', 'pict_135.JPG', 'pict_137.JPG', 'pict_139.JPG', 'pict_136.JPG', 'pict_134.JPG', 'pict_138.JPG', 'pict_142.JPG', 'pict_143.JPG', 'pict_144.JPG', 'pict_145.JPG', 'pict_146.JPG', 'pict_147.JPG', 'pict_153.JPG', 'pict_154.JPG', 'pict_152.JPG', 'pict_149.JPG', 'pict_15.JPG', 'pict_151.JPG', 'pict_150.JPG', 'pict_148.JPG', 'pict_155.JPG', 'pict_156.JPG', 'pict_157.JPG', 'pict_158.JPG', 'pict_159.JPG', 'pict_16.JPG', 'pict_160.JPG', 'pict_167.JPG', 'pict_168.JPG', 'pict_164.JPG', 'pict_161.JPG', 'pict_165.JPG', 'pict_163.JPG', 'pict_166.JPG', 'pict_162.JPG', 'pict_169.JPG', 'pict_17.JPG', 'pict_170.JPG', 'pict_171.JPG', 'pict_172.JPG', 'pict_173.JPG', 'pict_174.JPG', 'pict_180.JPG', 'pict_181.JPG', 'pict_178.JPG', 'pict_176.JPG', 'pict_177.JPG', 'pict_175.JPG', 'pict_179.JPG', 'pict_18.JPG', 'pict_182.JPG', 'pict_183.JPG', 'pict_184.JPG', 'pict_185.JPG', 'pict_186.JPG', 'pict_187.JPG', 'pict_188.JPG', 'pict_189.JPG', 'pict_195.JPG', 'pict_196.JPG', 'pict_197.JPG', 'pict_19.JPG', 'pict_190.JPG', 'pict_194.JPG', 'pict_193.JPG', 'pict_191.JPG', 'pict_192.JPG', 'pict_198.JPG', 'pict_199.JPG', 'pict_2.JPG', 'pict_20.JPG', 'pict_200.JPG', 'pict_201.JPG', 'pict_208.JPG', 'pict_209.JPG', 'pict_205.JPG', 'pict_204.JPG', 'pict_206.JPG', 'pict_203.JPG', 'pict_202.JPG', 'pict_21.JPG', 'pict_211.JPG', 'pict_212.JPG', 'pict_213.JPG', 'pict_207.JPG', 'pict_214.JPG', 'pict_215.JPG', 'pict_216.JPG', 'pict_222.JPG', 'pict_223.JPG', 'pict_224.JPG', 'pict_220.JPG', 'pict_221.JPG', 'pict_217.JPG', 'pict_22.JPG', 'pict_219.JPG', 'pict_218.JPG', 'pict_225.JPG', 'pict_226.JPG', 'pict_227.JPG', 'pict_228.JPG', 'pict_229.JPG', 'pict_23.JPG', 'pict_236.JPG', 'pict_237.JPG', 'pict_238.JPG', 'pict_234.JPG', 'pict_231.JPG', 'pict_233.JPG', 'pict_232.JPG', 'pict_235.JPG', 'pict_230.JPG', 'pict_239.JPG', 'pict_24.JPG', 'pict_240.JPG', 'pict_241.JPG', 'pict_242.JPG', 'pict_243.JPG', 'pict_244.JPG', 'pict_250.JPG', 'pict_251.JPG', 'pict_252.JPG', 'pict_253.JPG', 'pict_254.JPG', 'pict_249.JPG', 'pict_247.JPG', 'pict_246.JPG', 'pict_25.JPG', 'pict_245.JPG', 'pict_248.JPG', 'pict_255.JPG', 'pict_256.JPG', 'pict_257.JPG', 'pict_258.JPG', 'pict_259.JPG', 'pict_26.JPG', 'pict_266.JPG', 'pict_267.JPG', 'pict_261.JPG', 'pict_265.JPG', 'pict_264.JPG', 'pict_260.JPG', 'pict_262.JPG', 'pict_268.JPG', 'pict_269.JPG', 'pict_27.JPG', 'pict_270.JPG', 'pict_271.JPG', 'pict_272.JPG', 'pict_273.JPG', 'pict_263.JPG', 'pict_274.JPG', 'pict_275.JPG', 'pict_276.JPG', 'pict_277.JPG', 'pict_283.JPG', 'pict_28.JPG', 'pict_278.JPG', 'pict_279.JPG', 'pict_280.JPG', 'pict_281.JPG', 'pict_282.JPG', 'pict_284.JPG', 'pict_285.JPG', 'pict_286.JPG', 'pict_287.JPG', 'pict_288.JPG', 'pict_289.JPG', 'pict_29.JPG', 'pict_296.JPG', 'pict_297.JPG', 'pict_298.JPG', 'pict_290.JPG', 'pict_291.JPG', 'pict_294.JPG', 'pict_293.JPG', 'pict_292.JPG', 'pict_295.JPG', 'pict_299.JPG', 'pict_3.JPG', 'pict_30.JPG', 'pict_300.JPG', 'pict_301.JPG', 'pict_302.JPG', 'pict_309.JPG', 'pict_31.JPG', 'pict_305.JPG', 'pict_307.JPG', 'pict_304.JPG', 'pict_303.JPG', 'pict_306.JPG', 'pict_308.JPG', 'pict_310.JPG', 'pict_311.JPG', 'pict_312.JPG', 'pict_313.JPG', 'pict_314.JPG', 'pict_315.JPG', 'pict_316.JPG', 'pict_317.JPG', 'pict_323.JPG', 'pict_324.JPG', 'pict_321.JPG', 'pict_322.JPG', 'pict_32.JPG', 'pict_318.JPG', 'pict_319.JPG', 'pict_320.JPG', 'pict_325.JPG', 'pict_326.JPG', 'pict_327.JPG', 'pict_328.JPG', 'pict_329.JPG', 'pict_33.JPG', 'pict_330.JPG', 'pict_331.JPG', 'pict_338.JPG', 'pict_339.JPG', 'pict_34.JPG', 'pict_335.JPG', 'pict_334.JPG', 'pict_333.JPG', 'pict_337.JPG', 'pict_336.JPG', 'pict_332.JPG', 'pict_340.JPG', 'pict_341.JPG', 'pict_342.JPG', 'pict_343.JPG', 'pict_35.JPG', 'pict_350.JPG', 'pict_345.JPG', 'pict_344.JPG', 'pict_346.JPG', 'pict_351.JPG', 'pict_352.JPG', 'pict_353.JPG', 'pict_354.JPG', 'pict_355.JPG', 'pict_348.JPG', 'pict_347.JPG', 'pict_349.JPG', 'pict_356.JPG', 'pict_357.JPG', 'pict_358.JPG', 'pict_359.JPG', 'pict_36.JPG', 'pict_360.JPG', 'pict_367.JPG', 'pict_368.JPG', 'pict_369.JPG', 'pict_37.JPG', 'pict_363.JPG', 'pict_365.JPG', 'pict_361.JPG', 'pict_362.JPG', 'pict_364.JPG', 'pict_366.JPG', 'pict_370.JPG', 'pict_371.JPG', 'pict_372.JPG', 'pict_373.JPG', 'pict_374.JPG', 'pict_375.JPG', 'pict_376.JPG', 'pict_382.JPG', 'pict_383.JPG', 'pict_381.JPG', 'pict_38.JPG', 'pict_378.JPG', 'pict_377.JPG', 'pict_380.JPG', 'pict_379.JPG', 'pict_384.JPG', 'pict_385.JPG', 'pict_386.JPG', 'pict_387.JPG', 'pict_388.JPG', 'pict_39.JPG', 'pict_395.JPG', 'pict_396.JPG', 'pict_397.JPG', 'pict_390.JPG', 'pict_394.JPG', 'pict_389.JPG', 'pict_393.JPG', 'pict_391.JPG', 'pict_392.JPG', 'pict_398.JPG', 'pict_399.JPG', 'pict_4.JPG', 'pict_40.JPG', 'pict_400.JPG', 'pict_401.JPG', 'pict_402.JPG', 'pict_409.JPG', 'pict_41.JPG', 'pict_410.JPG', 'pict_411.JPG', 'pict_404.JPG', 'pict_406.JPG', 'pict_403.JPG', 'pict_405.JPG', 'pict_408.JPG', 'pict_407.JPG', 'pict_412.JPG', 'pict_413.JPG', 'pict_414.JPG', 'pict_415.JPG', 'pict_416.JPG', 'pict_417.JPG', 'pict_418.JPG', 'pict_419.JPG', 'pict_426.JPG', 'pict_425.JPG', 'pict_421.JPG', 'pict_422.JPG', 'pict_42.JPG', 'pict_420.JPG', 'pict_427.JPG', 'pict_428.JPG', 'pict_429.JPG', 'pict_43.JPG', 'pict_430.JPG', 'pict_423.JPG', 'pict_424.JPG', 'pict_431.JPG', 'pict_432.JPG', 'pict_433.JPG', 'pict_435.JPG', 'pict_440.JPG', 'pict_441.JPG', 'pict_442.JPG', 'pict_44.JPG', 'pict_436.JPG', 'pict_439.JPG', 'pict_434.JPG', 'pict_438.JPG', 'pict_437.JPG', 'pict_443.JPG', 'pict_444.JPG', 'pict_445.JPG', 'pict_446.JPG', 'pict_447.JPG', 'pict_448.JPG', 'pict_455.JPG', 'pict_454.JPG', 'pict_456.JPG', 'pict_450.JPG', 'pict_452.JPG', 'pict_45.JPG', 'pict_453.JPG', 'pict_449.JPG', 'pict_451.JPG', 'pict_457.JPG', 'pict_458.JPG', 'pict_459.JPG', 'pict_46.JPG', 'pict_460.JPG', 'pict_461.JPG', 'pict_468.JPG', 'pict_469.JPG', 'pict_47.JPG', 'pict_462.JPG', 'pict_467.JPG', 'pict_463.JPG', 'pict_464.JPG', 'pict_465.JPG', 'pict_466.JPG', 'pict_470.JPG', 'pict_471.JPG', 'pict_472.JPG', 'pict_473.JPG', 'pict_474.JPG', 'pict_475.JPG', 'pict_476.JPG', 'pict_482.JPG', 'pict_483.JPG', 'pict_48.JPG', 'pict_481.JPG', 'pict_480.JPG', 'pict_477.JPG', 'pict_478.JPG', 'pict_479.JPG', 'pict_484.JPG', 'pict_485.JPG', 'pict_486.JPG', 'pict_487.JPG', 'pict_488.JPG', 'pict_489.JPG', 'pict_49.JPG', 'pict_491.JPG', 'pict_492.JPG', 'pict_490.JPG', 'pict_496.JPG', 'pict_494.JPG', 'pict_495.JPG', 'pict_497.JPG', 'pict_498.JPG', 'pict_499.JPG', 'pict_5.JPG', 'pict_493.JPG', 'pict_50.JPG', 'pict_500.JPG', 'pict_501.JPG', 'pict_506.JPG', 'pict_509.JPG', 'pict_51.JPG', 'pict_510.JPG', 'pict_511.JPG', 'pict_505.JPG', 'pict_502.JPG', 'pict_507.JPG', 'pict_503.JPG', 'pict_504.JPG', 'pict_508.JPG', 'pict_512.JPG', 'pict_513.JPG', 'pict_514.JPG', 'pict_515.JPG', 'pict_521.JPG', 'pict_522.JPG', 'pict_523.JPG', 'pict_518.JPG', 'pict_517.JPG', 'pict_516.JPG', 'pict_520.JPG', 'pict_52.JPG', 'pict_519.JPG', 'pict_524.JPG', 'pict_525.JPG', 'pict_526.JPG', 'pict_527.JPG', 'pict_528.JPG', 'pict_529.JPG', 'pict_535.JPG', 'pict_536.JPG', 'pict_534.JPG', 'pict_53.JPG', 'pict_532.JPG', 'pict_531.JPG', 'pict_533.JPG', 'pict_530.JPG', 'pict_537.JPG', 'pict_538.JPG', 'pict_539.JPG', 'pict_54.JPG', 'pict_540.JPG', 'pict_541.JPG', 'pict_542.JPG', 'pict_549.JPG', 'pict_55.JPG', 'pict_550.JPG', 'pict_546.JPG', 'pict_544.JPG', 'pict_545.JPG', 'pict_548.JPG', 'pict_543.JPG', 'pict_547.JPG', 'pict_551.JPG', 'pict_552.JPG', 'pict_553.JPG', 'pict_554.JPG', 'pict_555.JPG', 'pict_556.JPG', 'pict_557.JPG', 'pict_563.JPG', 'pict_559.JPG', 'pict_560.JPG', 'pict_56.JPG', 'pict_561.JPG', 'pict_558.JPG', 'pict_564.JPG', 'pict_565.JPG', 'pict_566.JPG', 'pict_567.JPG', 'pict_562.JPG', 'pict_568.JPG', 'pict_569.JPG', 'pict_57.JPG', 'pict_570.JPG', 'pict_575.JPG', 'pict_576.JPG', 'pict_577.JPG', 'pict_573.JPG', 'pict_572.JPG', 'pict_574.JPG', 'pict_571.JPG', 'pict_578.JPG', 'pict_579.JPG', 'pict_58.JPG', 'pict_580.JPG', 'pict_581.JPG', 'pict_582.JPG', 'pict_589.JPG', 'pict_588.JPG', 'pict_586.JPG', 'pict_583.JPG', 'pict_587.JPG', 'pict_584.JPG', 'pict_585.JPG', 'pict_59.JPG', 'pict_590.JPG', 'pict_591.JPG', 'pict_592.JPG', 'pict_593.JPG', 'pict_594.JPG', 'pict_595.JPG', 'pict_596.JPG', 'pict_601.JPG', 'pict_602.JPG', 'pict_603.JPG', 'pict_597.JPG', 'pict_60.JPG', 'pict_600.JPG', 'pict_6.JPG', 'pict_598.JPG', 'pict_599.JPG', 'pict_604.JPG', 'pict_605.JPG', 'pict_606.JPG', 'pict_607.JPG', 'pict_608.JPG', 'pict_609.JPG', 'pict_615.JPG', 'pict_616.JPG', 'pict_617.JPG', 'pict_618.JPG', 'pict_611.JPG', 'pict_613.JPG', 'pict_614.JPG', 'pict_610.JPG', 'pict_612.JPG', 'pict_61.JPG', 'pict_619.JPG', 'pict_62.JPG', 'pict_620.JPG', 'pict_621.JPG', 'pict_622.JPG', 'pict_623.JPG', 'pict_63.JPG', 'pict_627.JPG', 'pict_628.JPG', 'pict_624.JPG', 'pict_629.JPG', 'pict_625.JPG', 'pict_626.JPG', 'pict_630.JPG', 'pict_631.JPG', 'pict_632.JPG', 'pict_633.JPG', 'pict_634.JPG', 'pict_635.JPG', 'pict_636.JPG', 'pict_637.JPG', 'pict_643.JPG', 'pict_644.JPG', 'pict_645.JPG', 'pict_639.JPG', 'pict_640.JPG', 'pict_638.JPG', 'pict_642.JPG', 'pict_641.JPG', 'pict_64.JPG', 'pict_646.JPG', 'pict_647.JPG', 'pict_648.JPG', 'pict_649.JPG', 'pict_650.JPG', 'pict_65.JPG', 'pict_651.JPG', 'pict_658.JPG', 'pict_659.JPG', 'pict_657.JPG', 'pict_656.JPG', 'pict_653.JPG', 'pict_652.JPG', 'pict_655.JPG', 'pict_654.JPG', 'pict_66.JPG', 'pict_660.JPG', 'pict_661.JPG', 'pict_662.JPG', 'pict_663.JPG', 'pict_664.JPG', 'pict_671.JPG', 'pict_670.JPG', 'pict_672.JPG', 'pict_669.JPG', 'pict_666.JPG', 'pict_668.JPG', 'pict_67.JPG', 'pict_665.JPG', 'pict_667.JPG', 'pict_673.JPG', 'pict_674.JPG', 'pict_675.JPG', 'pict_676.JPG', 'pict_677.JPG', 'pict_678.JPG', 'pict_684.JPG', 'pict_685.JPG', 'pict_681.JPG', 'pict_682.JPG', 'pict_680.JPG', 'pict_68.JPG', 'pict_679.JPG', 'pict_683.JPG', 'pict_686.JPG', 'pict_687.JPG', 'pict_688.JPG', 'pict_689.JPG', 'pict_690.JPG', 'pict_69.JPG', 'pict_691.JPG', 'pict_692.JPG', 'pict_699.JPG', 'pict_694.JPG', 'pict_693.JPG', 'pict_7.JPG', 'pict_700.JPG', 'pict_70.JPG', 'pict_696.JPG', 'pict_697.JPG', 'pict_698.JPG', 'pict_695.JPG', 'pict_702.JPG', 'pict_701.JPG', 'pict_703.JPG', 'pict_704.JPG', 'pict_710.JPG', 'pict_707.JPG', 'pict_706.JPG', 'pict_709.JPG', 'pict_71.JPG', 'pict_705.JPG', 'pict_708.JPG', 'pict_712.JPG', 'pict_711.JPG', 'pict_713.JPG', 'pict_714.JPG', 'pict_715.JPG', 'pict_716.JPG', 'pict_717.JPG', 'pict_75.JPG', 'pict_76.JPG', 'pict_77.JPG', 'pict_719.JPG', 'pict_74.JPG', 'pict_718.JPG', 'pict_73.JPG', 'pict_720.JPG', 'pict_72.JPG', 'pict_78.JPG', 'pict_79.JPG', 'pict_8.JPG', 'pict_87.JPG', 'pict_80.JPG', 'pict_88.JPG', 'pict_89.JPG', 'pict_9.JPG', 'pict_83.JPG', 'pict_85.JPG', 'pict_81.JPG', 'pict_82.JPG', 'pict_86.JPG', 'pict_84.JPG', 'pict_90.JPG', 'pict_91.JPG', 'pict_92.JPG', 'pict_93.JPG', 'pict_94.JPG', 'pict_95.JPG', 'pict_96.JPG', 'pict_97.JPG', 'pict_98.JPG', 'pict_99.JPG']\n"
          ],
          "name": "stdout"
        }
      ]
    },
    {
      "metadata": {
        "id": "SaWlpAEP85gK",
        "colab_type": "text"
      },
      "cell_type": "markdown",
      "source": [
        "Sanity test for the files."
      ]
    },
    {
      "metadata": {
        "id": "Fgn0IQGxJLsq",
        "colab_type": "code",
        "colab": {}
      },
      "cell_type": "code",
      "source": [
        "#data gen\n",
        "\n",
        "# All images will be rescaled by 1./255\n",
        "train_datagen = ImageDataGenerator(rescale=1./255)\n",
        "test_datagen = ImageDataGenerator(rescale=1./255)\n",
        "\n",
        "# Specify how the ImageDataGenerator will read and deliver\n",
        "train_generator = train_datagen.flow_from_directory\n",
        "        # This is the target directory\n",
        "        train_dir,\n",
        "        # All images will be resized to 150x150\n",
        "        target_size=(150, 150),\n",
        "        batch_size=20,\n",
        "        # Since we use binary_crossentropy loss, we need binary labels\n",
        "        class_mode='categorical' )\n",
        "\n",
        "#functions\n",
        "\n",
        "def annotate_theta( img, labels ):\n",
        "  #this will be a series of characters read from a csv\n",
        "  time[]\n",
        "  theta[]\n",
        "  radius[]\n",
        "  \n",
        "  #this will read from the csv labels and calculate the appropriate theta\n",
        "  #for the minute hand\n",
        "  \n",
        "  #this will read the label and calculate the theta for the\n",
        "  #hour hand now\n",
        "  for i in range( len( labels ) ):\n",
        "    if len( labels[ i ] > 3 ):\n",
        "      time[ 1: ] = labels[ i ].split( ':' )\n",
        "      radius[ 1 ] = 4\n",
        "      theta[ 0 ] = ( 0.5 * int( time[ :2 ] ) )\n",
        "      theta[ 1 ] = ( 6 * int( time[ 2: ] ) )\n",
        "    elif len( labels[ i ] == 3):\n",
        "      time[ 0 ] = '0'\n",
        "      time[ 1: ] = labels[ i ].split( ':' )\n",
        "      radius[ 0 ] = 2\n",
        "      theta[ 0 ] = ( 0.5 * int( time[ :2 ] ) )\n",
        "      theta[ 1 ] = ( 6 * int( time[ 2: ] ) )\n",
        "  \n",
        "  return radius, theta\n",
        "  \n",
        "\n",
        "def loading_dataset(img, labels):\n",
        "  \n",
        "  \n",
        "  r, t = annotate_theta( img, labels )\n",
        "  \n",
        "  #once we annotated radius and theta into r and t\n",
        "  #we will load it into a format of:\n",
        "  #dataset = [ img, r(hour), t(hour), r(minute), t(minute) ]\n",
        "  \n",
        "  dataset = load\n",
        "  \n",
        "  return X, Y\n",
        "\n",
        "\n",
        "def residual_unit( inputs, filters, kernel, drop_out = 0.0, pooling = False )\n",
        "  res = inputs\n",
        "  \n",
        "  if pooling == True:\n",
        "    res = model.conv2D( filters, kernel_size = 1, strides = 2 )\n",
        "    inputs = MaxPooling2d( pool_size = ( 2, 2 ) )\n",
        "    \n",
        "  inputs = model.BatchNormalization( inputs )\n",
        "  inputs = model.conv2D( filters, kernel, padding = 'same')\n",
        "  inputs = model.activation( 'Relu' )\n",
        "  inputs = model.Dropout( drop_out )\n",
        "  inputs = model.BatchNormalization( inputs )\n",
        "  inputs = model.conv2D( filters, kernel, padding = 'same')\n",
        "  inputs = model.activation( 'Relu' )\n",
        "  \n",
        "  inputs = keras.layers.add( [ inputs, res ] )\n",
        "  \n",
        "  return inputs\n",
        "\n",
        "#main function\n",
        "input, output = loading dataset()\n",
        "\n",
        "\n",
        "\n",
        "\n",
        "\n",
        "\n",
        "model.save('clock_ai_0.1.h5')\n"
      ],
      "execution_count": 0,
      "outputs": []
    },
    {
      "metadata": {
        "id": "RLurvC5Y8sut",
        "colab_type": "text"
      },
      "cell_type": "markdown",
      "source": [
        "Gameplan is to use polar coordinates in order to give an additional feature to the learning model during training.\n",
        "\n",
        "Initially considered using pixels to calculate theta since arctan( y / x ) will give us the angle of the clock hand.\n",
        "However, since the pixels were blurry compounded by the fact that the conditions to make theta happen is complex, an alternative was considered.\n",
        "\n",
        "Rather than use X and Y to calculate theta, the idea is then to use degree of 360 and divide by units of 60 ( which represent the minutes ). This gives us 6 degrees of movement per ***\"minute\"***.\n",
        "\n",
        "For the ***\"Hour\"*** hand we know that the hand moves 5 minute units to move to the next hour. 5 * 6 gives us 30 degrees per hour, so if we take 30 degree /60 minutes we get 0.5 degrees/minute.\n",
        "\n",
        "Same idea will be applied to the hour-hand cause this would be the one that gives the model problem since the hour-hand moves as the minute hand moves and makes things a little harder to do for the hour identification."
      ]
    }
  ]
}