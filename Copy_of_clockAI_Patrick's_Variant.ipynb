{
  "nbformat": 4,
  "nbformat_minor": 0,
  "metadata": {
    "colab": {
      "name": "Copy of clockAI.ipynb",
      "version": "0.3.2",
      "provenance": [],
      "collapsed_sections": [],
      "include_colab_link": true
    },
    "language_info": {
      "codemirror_mode": {
        "name": "ipython",
        "version": 3
      },
      "file_extension": ".py",
      "mimetype": "text/x-python",
      "name": "python",
      "nbconvert_exporter": "python",
      "pygments_lexer": "ipython3",
      "version": "3.6.5"
    },
    "kernelspec": {
      "name": "python3",
      "display_name": "Python 3"
    },
    "accelerator": "GPU"
  },
  "cells": [
    {
      "cell_type": "markdown",
      "metadata": {
        "id": "view-in-github",
        "colab_type": "text"
      },
      "source": [
        "<a href=\"https://colab.research.google.com/github/pkong0414/Deep-Learning-Projects/blob/master/Copy_of_clockAI_Patrick's_Variant.ipynb\" target=\"_parent\"><img src=\"https://colab.research.google.com/assets/colab-badge.svg\" alt=\"Open In Colab\"/></a>"
      ]
    },
    {
      "cell_type": "code",
      "metadata": {
        "id": "BtPUY1vRJLsW",
        "colab_type": "code",
        "colab": {}
      },
      "source": [
        "#importing library\n",
        "\n",
        "import keras\n",
        "from keras.models import *\n",
        "from keras.layers import *\n",
        "import os, shutil\n",
        "from keras.preprocessing import image\n",
        "import matplotlib.image as mpimg\n",
        "import matplotlib.pyplot as plt\n",
        "\n",
        "#use this when you use google colab only!\n",
        "from google.colab import files, drive\n",
        "import glob\n",
        "import pandas as pd\n",
        "import io\n",
        "import numpy as np\n",
        "import cv2\n",
        "from PIL import Image\n",
        "import pathlib\n",
        "\n",
        "\n",
        "import tensorflow as tf\n",
        "\n"
      ],
      "execution_count": 0,
      "outputs": []
    },
    {
      "cell_type": "markdown",
      "metadata": {
        "id": "BhK4eWmx_pHn",
        "colab_type": "text"
      },
      "source": [
        "Created by: Patrick Kong, Cody Hawkings\n",
        "                \n",
        "    clockAI project:\n",
        "    \n",
        "    This clock ai would aim to use computervision in order to read a clock's time.\n",
        "    It would be able to read digital and more importantly analog clocks.\n",
        "    \n",
        "    We will be using google colab for this project."
      ]
    },
    {
      "cell_type": "markdown",
      "metadata": {
        "id": "fbtLVrq20z9n",
        "colab_type": "text"
      },
      "source": [
        "###Mounting Google Drive"
      ]
    },
    {
      "cell_type": "code",
      "metadata": {
        "id": "SkSE-t5P3uXT",
        "colab_type": "code",
        "outputId": "958031c2-0c36-45fd-b6cd-ad4492f0aefa",
        "colab": {
          "base_uri": "https://localhost:8080/",
          "height": 122
        }
      },
      "source": [
        "#to import multiple files into google colab we first need to mount google drive\n",
        "#so that we can make directory calls to our photos and CSV files\n",
        "drive.mount('/content/drive')"
      ],
      "execution_count": 3,
      "outputs": [
        {
          "output_type": "stream",
          "text": [
            "Go to this URL in a browser: https://accounts.google.com/o/oauth2/auth?client_id=947318989803-6bn6qk8qdgf4n4g3pfee6491hc0brc4i.apps.googleusercontent.com&redirect_uri=urn%3Aietf%3Awg%3Aoauth%3A2.0%3Aoob&scope=email%20https%3A%2F%2Fwww.googleapis.com%2Fauth%2Fdocs.test%20https%3A%2F%2Fwww.googleapis.com%2Fauth%2Fdrive%20https%3A%2F%2Fwww.googleapis.com%2Fauth%2Fdrive.photos.readonly%20https%3A%2F%2Fwww.googleapis.com%2Fauth%2Fpeopleapi.readonly&response_type=code\n",
            "\n",
            "Enter your authorization code:\n",
            "··········\n",
            "Mounted at /content/drive\n"
          ],
          "name": "stdout"
        }
      ]
    },
    {
      "cell_type": "markdown",
      "metadata": {
        "id": "G3Rc6P1IViSg",
        "colab_type": "text"
      },
      "source": [
        "####A quick check of the files in the directory to see if the drive mounted correctly"
      ]
    },
    {
      "cell_type": "code",
      "metadata": {
        "id": "ZthwKK6M30vt",
        "colab_type": "code",
        "outputId": "8b940c78-4eb5-45ca-8499-a0d7ddc98a46",
        "colab": {
          "base_uri": "https://localhost:8080/",
          "height": 85
        }
      },
      "source": [
        "!ls \"/content/drive/My Drive/\""
      ],
      "execution_count": 4,
      "outputs": [
        {
          "output_type": "stream",
          "text": [
            "'Analog Clock'\t\t    RSVP.gform\t\t   test_validation.xlsx\n",
            " battery_report.html.gdoc  'Signup Sheet.gsheet'   train_analog\n",
            "'Colab Notebooks'\t    test_val_analog.csv    train_analog.zip\n",
            " filename_Labels.csv\t    test_val_digital.csv   train_digital.zip\n"
          ],
          "name": "stdout"
        }
      ]
    },
    {
      "cell_type": "markdown",
      "metadata": {
        "id": "Q7ib78dC1J0i",
        "colab_type": "text"
      },
      "source": [
        "####Directory Calls to Google Drive"
      ]
    },
    {
      "cell_type": "code",
      "metadata": {
        "id": "5gIa51Tu8Mrl",
        "colab_type": "code",
        "outputId": "fd7409bd-a003-48ec-c720-96d53c23910a",
        "colab": {
          "base_uri": "https://localhost:8080/",
          "height": 1955
        }
      },
      "source": [
        "#file directory for analog\n",
        "base_A_dir = \"/content/drive/My Drive/train_analog\"\n",
        "\n",
        "#file directory for digital\n",
        "base_D_dir = \"/content/drive/My Drive/Colab Notebooks/Clocks/Digital Clock/train\"\n",
        "\n",
        "#file directory for target (labels)\n",
        "base_LA_dir = \"/content/drive/My Drive/test_val_analog.csv\"\n",
        "base_LD_dir = \"/content/drive/My Drive/test_val_digital.csv\"\n",
        "\n",
        "\n",
        "#open files from drive mount in google colab for correct picture names and lables\n",
        "file_csv = open(base_LA_dir, 'r')\n",
        "file2_csv = open(base_LD_dir, 'r')\n",
        "\n",
        "\n",
        "#first we must go through the file and then split the information\n",
        "#we then remove any unwanted fluff so that we are only left with \n",
        "#the filename and the picture label\n",
        "#the filename will later be used to be joined with the correct directory\n",
        "#so that we can open up pictures in order\n",
        "train_A_labels = []\n",
        "train_A_filenames = []\n",
        "text_A = []\n",
        "\n",
        "for files in file_csv:\n",
        "  text_A = files.split( \",\" )\n",
        "  train_A_labels.append( text_A[1].strip( '\\n' ) )\n",
        "  train_A_filenames.append( text_A[0].strip( '\\ufeff' ) )\n",
        "#print( train_A_labels )\n",
        "# print( train_A_filenames )\n",
        "\n",
        "\n",
        "\n",
        "train_D_labels = []\n",
        "train_D_filenames = []\n",
        "text_D = []\n",
        "\n",
        "for files in file2_csv:\n",
        "  text_D = files.split( \",\" )\n",
        "  train_D_labels.append( text_D[1].strip( '\\n' ) )\n",
        "  train_D_filenames.append( text_D[0].strip( '\\ufeff' ) )\n",
        "#print( train_D_labels )\n",
        "#print( train_D_filenames )\n",
        "\n",
        "\n",
        "#Now that the filenames are in correct order we will append the \n",
        "#names of the pictures to their respective directory folder\n",
        "\n",
        "temp2 = []\n",
        "image_analog = []\n",
        "\n",
        "for items in train_A_filenames:\n",
        "  temp2 = os.path.join( base_A_dir, items )\n",
        "  image_analog.append( temp2 )\n",
        "\n",
        "print( image_analog[0] )\n",
        "\n",
        "temp3 = []\n",
        "image_digital = []\n",
        "\n",
        "for item in train_D_filenames:\n",
        "  temp3 = os.path.join( base_D_dir, item )\n",
        "  image_digital.append( temp3 )\n",
        "\n",
        "#print( image_digital[ : ] )\n",
        "\n",
        "#as a sanity check we print out everything to make sure we are getting the \n",
        "#correct files in the correct order and to make sure that the filenames\n",
        "#appended correctly with the directory paths\n",
        "\n",
        "# AUTOTUNE = tf.data.experimental.AUTOTUNE\n",
        "\n",
        "\n",
        "# x_input = tf.zeros( [ 720, 100, 100, 3], dtype = 'float32')\n",
        "\n",
        "# def preprocess_image(image):\n",
        "#   image = tf.image.decode_jpeg(image, channels=3)\n",
        "#   image = tf.image.resize(image, [100, 100])\n",
        "#   image /= 255.0  # normalize to [0,1] range\n",
        "#   return image\n",
        "\n",
        "# def load_and_preprocess_image(path):\n",
        "#   image = tf.read_file(path)\n",
        "#   x_input = preprocess_image( image )\n",
        "#   return preprocess_image(image)\n",
        "\n",
        "\n",
        "# import matplotlib.pyplot as plt\n",
        "\n",
        "# plt.figure(figsize=(8,8))\n",
        "# for n,image in enumerate( train_A_filenames.take(2)):\n",
        "#   plt.subplot(2,2,n+1)\n",
        "#   plt.imshow(image)\n",
        "#   plt.grid(True)\n",
        "#   plt.xticks([])\n",
        "#   plt.yticks([])\n",
        "#   plt.show()\n",
        "  \n",
        "# plt.figure( figsize = ( 8, 8 ) )\n",
        "# for n, image in enumerate( train_D_filenames.take( 2 ) ):\n",
        "#   plt.subplot( 2, 2, n+1 )\n",
        "#   plt.imshow( image )\n",
        "#   plt.grid( True )\n",
        "#   plt.xticks( [] )\n",
        "#   plt.yticks( [] )\n",
        "#   plt.show()\n",
        "  \n",
        "time = []\n",
        "timeL = []\n",
        "theta = np.zeros( ( 720, 2 ), dtype = 'float64' )\n",
        "radius = np.zeros( ( 720, 2 ), dtype = 'float64' )\n",
        "annotate_Hour = np.zeros( ( 720, 2 ), dtype = 'float64' )\n",
        "annotate_Min = np.zeros( ( 720, 2 ), dtype = 'float64' )\n",
        "\n",
        "hour = 0.0\n",
        "minute = 0.0\n",
        "\n",
        "#this will read from the csv labels and calculate the appropriate theta\n",
        "#for the minute hand\n",
        "  \n",
        "#this will read the label and calculate the theta for the\n",
        "#hour hand now\n",
        "\n",
        "thetaH = []\n",
        "thetaM = []\n",
        "Hour = []\n",
        "Min = []\n",
        "for i in range( len( train_A_labels ) ):\n",
        "    \n",
        "  time =  train_A_labels[ i ].split( ':' )\n",
        "  hour = int( time[ 0 ] )\n",
        "  minute = int( time[ 1 ] )\n",
        "  \n",
        "  annotate_Hour[ i ][ 1 ] = float( 0.5 * minute )\n",
        "  annotate_Hour[ i ][ 0 ] = 2\n",
        "  annotate_Min[ i ][ 1 ] = float( 6 * minute )\n",
        "  annotate_Min[ i ][ 0 ] = 4\n",
        "  \n",
        "  \n",
        "  timeL.append( str( time[ 0 ] + time[ 1 ] ) )\n",
        "  \n",
        "  \n",
        "  \n",
        "  X = np.full([100, 100, 1], annotate_Hour[i][1])\n",
        "  X = np.expand_dims(X, axis = 0)\n",
        "  thetaH.append(X)\n",
        "  Z = np.full([100, 100, 1], annotate_Min[i][1])\n",
        "  Z = np.expand_dims(Z, axis = 0)\n",
        "  thetaM.append(Z)\n",
        "thetaH = np.concatenate(thetaH, axis = 0)\n",
        "thetaM = np.concatenate(thetaM, axis = 0)\n",
        "\n",
        "print( thetaH.shape )\n",
        "print( thetaM.shape )\n",
        "\n",
        "\n",
        "#this will stack theta in a 720 x 1 x 2 format\n",
        "#printing output of both theta and radius\n",
        "print( timeL[ :10 ] )\n",
        "\n",
        "print( \"Hour annotations: \\n\" )\n",
        "print( annotate_Hour[ :5 ] )\n",
        "print( \"Minute annotations: \\n\" )\n",
        "print( annotate_Min[ :5 ] )\n",
        "  \n",
        "\n",
        "# img_path = image_analog[0]\n",
        "# img_path\n",
        "\n",
        "# img_raw = tf.read_file(img_path)\n",
        "# print(repr(img_raw))\n",
        "\n",
        "# img_tensor = tf.image.decode_image(img_raw)\n",
        "\n",
        "# print(img_tensor.shape)\n",
        "# print(img_tensor.dtype)\n",
        "\n",
        "# img_final = tf.image.resize_images(img_tensor, [150 , 150])\n",
        "# img_final = img_final/255.0\n",
        "# print(img_final.shape)\n",
        "# print(img_final.numpy().min())\n",
        "# print(img_final.numpy().max())\n"
      ],
      "execution_count": 30,
      "outputs": [
        {
          "output_type": "stream",
          "text": [
            "/content/drive/My Drive/train_analog/pic_1\n",
            "[[[2.5]\n",
            "  [2.5]\n",
            "  [2.5]\n",
            "  ...\n",
            "  [2.5]\n",
            "  [2.5]\n",
            "  [2.5]]\n",
            "\n",
            " [[2.5]\n",
            "  [2.5]\n",
            "  [2.5]\n",
            "  ...\n",
            "  [2.5]\n",
            "  [2.5]\n",
            "  [2.5]]\n",
            "\n",
            " [[2.5]\n",
            "  [2.5]\n",
            "  [2.5]\n",
            "  ...\n",
            "  [2.5]\n",
            "  [2.5]\n",
            "  [2.5]]\n",
            "\n",
            " ...\n",
            "\n",
            " [[2.5]\n",
            "  [2.5]\n",
            "  [2.5]\n",
            "  ...\n",
            "  [2.5]\n",
            "  [2.5]\n",
            "  [2.5]]\n",
            "\n",
            " [[2.5]\n",
            "  [2.5]\n",
            "  [2.5]\n",
            "  ...\n",
            "  [2.5]\n",
            "  [2.5]\n",
            "  [2.5]]\n",
            "\n",
            " [[2.5]\n",
            "  [2.5]\n",
            "  [2.5]\n",
            "  ...\n",
            "  [2.5]\n",
            "  [2.5]\n",
            "  [2.5]]]\n",
            "[[[36.]\n",
            "  [36.]\n",
            "  [36.]\n",
            "  ...\n",
            "  [36.]\n",
            "  [36.]\n",
            "  [36.]]\n",
            "\n",
            " [[36.]\n",
            "  [36.]\n",
            "  [36.]\n",
            "  ...\n",
            "  [36.]\n",
            "  [36.]\n",
            "  [36.]]\n",
            "\n",
            " [[36.]\n",
            "  [36.]\n",
            "  [36.]\n",
            "  ...\n",
            "  [36.]\n",
            "  [36.]\n",
            "  [36.]]\n",
            "\n",
            " ...\n",
            "\n",
            " [[36.]\n",
            "  [36.]\n",
            "  [36.]\n",
            "  ...\n",
            "  [36.]\n",
            "  [36.]\n",
            "  [36.]]\n",
            "\n",
            " [[36.]\n",
            "  [36.]\n",
            "  [36.]\n",
            "  ...\n",
            "  [36.]\n",
            "  [36.]\n",
            "  [36.]]\n",
            "\n",
            " [[36.]\n",
            "  [36.]\n",
            "  [36.]\n",
            "  ...\n",
            "  [36.]\n",
            "  [36.]\n",
            "  [36.]]]\n",
            "['1200', '1201', '1202', '1203', '1204', '1205', '1206', '1207', '1208', '1209']\n",
            "Hour annotations: \n",
            "\n",
            "[[2.  0. ]\n",
            " [2.  0.5]\n",
            " [2.  1. ]\n",
            " [2.  1.5]\n",
            " [2.  2. ]]\n",
            "Minute annotations: \n",
            "\n",
            "[[ 4.  0.]\n",
            " [ 4.  6.]\n",
            " [ 4. 12.]\n",
            " [ 4. 18.]\n",
            " [ 4. 24.]]\n"
          ],
          "name": "stdout"
        }
      ]
    },
    {
      "cell_type": "code",
      "metadata": {
        "id": "sOtV__vvz6-Z",
        "colab_type": "code",
        "colab": {
          "base_uri": "https://localhost:8080/",
          "height": 51
        },
        "outputId": "362724d3-b2d3-4e3b-b57c-9eb7b34aac83"
      },
      "source": [
        "print( thetaH.shape )\n",
        "print( thetaM.shape )"
      ],
      "execution_count": 31,
      "outputs": [
        {
          "output_type": "stream",
          "text": [
            "(720, 100, 100, 1)\n",
            "(720, 100, 100, 1)\n"
          ],
          "name": "stdout"
        }
      ]
    },
    {
      "cell_type": "code",
      "metadata": {
        "id": "WEBXxOf7W0Os",
        "colab_type": "code",
        "outputId": "39c9bd63-7719-450a-f623-e2d3a2190ca3",
        "colab": {
          "base_uri": "https://localhost:8080/",
          "height": 34
        }
      },
      "source": [
        "label_to_index = dict((name, index) for index, name in enumerate(timeL))\n",
        "list_values = [ v for v in label_to_index.values() ]\n",
        "list_values\n",
        "y_output = keras.utils.to_categorical( list_values, num_classes = 720 )\n",
        "print( list_values[:10] )"
      ],
      "execution_count": 6,
      "outputs": [
        {
          "output_type": "stream",
          "text": [
            "[0, 1, 2, 3, 4, 5, 6, 7, 8, 9]\n"
          ],
          "name": "stdout"
        }
      ]
    },
    {
      "cell_type": "code",
      "metadata": {
        "id": "5_3hm_SMt-Qx",
        "colab_type": "code",
        "outputId": "c6ca8f1c-8942-4b16-ead2-4bd08fdb3e42",
        "colab": {
          "base_uri": "https://localhost:8080/",
          "height": 34
        }
      },
      "source": [
        "#puts everything into a (720, 100, 100, 1) 4d tensor\n",
        "imgs = []\n",
        "for images in image_analog:\n",
        "  img = image.load_img( images + '.JPG', target_size =( 100, 100 ), color_mode = \"grayscale\" )\n",
        "  image_tensor = image.img_to_array( img )\n",
        "  image_tensor = np.expand_dims( image_tensor, axis = 0 )\n",
        "  image_tensor /= 255.0\n",
        "  imgs.append( image_tensor )\n",
        "  \n",
        "imgs = np.concatenate( imgs, axis = 0 )\n",
        "print( imgs.shape )\n",
        "\n"
      ],
      "execution_count": 14,
      "outputs": [
        {
          "output_type": "stream",
          "text": [
            "(720, 100, 100, 1)\n"
          ],
          "name": "stdout"
        }
      ]
    },
    {
      "cell_type": "code",
      "metadata": {
        "id": "K9UM5DmLDKR0",
        "colab_type": "code",
        "outputId": "f34a8747-16b4-466c-e39f-5b5c251b0d54",
        "colab": {
          "base_uri": "https://localhost:8080/",
          "height": 269
        }
      },
      "source": [
        "#show one grayscale image\n",
        "plt.imshow( imgs[1, :, : ,0] )\n",
        "plt.show()"
      ],
      "execution_count": 16,
      "outputs": [
        {
          "output_type": "display_data",
          "data": {
            "image/png": "[encoded data removed]",
            "text/plain": [
              "<Figure size 432x288 with 1 Axes>"
            ]
          },
          "metadata": {
            "tags": []
          }
        }
      ]
    },
    {
      "cell_type": "code",
      "metadata": {
        "id": "kTLWX085ueGS",
        "colab_type": "code",
        "colab": {}
      },
      "source": [
        "#transforms shape to a (720, 100, 100, 3) 4d tensor\n",
        "dataset = []\n",
        "dataset = np.concatenate([imgs, thetaH, thetaM ], axis = -1)\n"
      ],
      "execution_count": 0,
      "outputs": []
    },
    {
      "cell_type": "code",
      "metadata": {
        "id": "o7_-eC2OEKEq",
        "colab_type": "code",
        "outputId": "0307fb70-68b8-48aa-b739-45bdd8f09d52",
        "colab": {
          "base_uri": "https://localhost:8080/",
          "height": 34
        }
      },
      "source": [
        "#sanity check of new 4d tensor\n",
        "print( dataset.shape )"
      ],
      "execution_count": 37,
      "outputs": [
        {
          "output_type": "stream",
          "text": [
            "(720, 100, 100, 3)\n"
          ],
          "name": "stdout"
        }
      ]
    },
    {
      "cell_type": "code",
      "metadata": {
        "id": "y8ErlrIaEWPD",
        "colab_type": "code",
        "outputId": "1b9b09f1-f9be-4aa3-a5b3-56046baec03b",
        "colab": {
          "base_uri": "https://localhost:8080/",
          "height": 626
        }
      },
      "source": [
        "#image and 0 - 1 values\n",
        "plt.imshow(dataset[0,:,:,0])\n",
        "plt.show()\n",
        "print( dataset[ 1, :, :, 0] )\n",
        "print( dataset[ 1, :, :, 1] )\n",
        "print( dataset[ 1, :, :, 2] )"
      ],
      "execution_count": 39,
      "outputs": [
        {
          "output_type": "display_data",
          "data": {
            "image/png": "[encoded data removed]",
            "text/plain": [
              "<Figure size 432x288 with 1 Axes>"
            ]
          },
          "metadata": {
            "tags": []
          }
        },
        {
          "output_type": "stream",
          "text": [
            "[[0.80392158 0.72156864 0.87450981 ... 0.8509804  0.87058824 0.83529413]\n",
            " [0.82352942 0.75294119 0.87843138 ... 0.90196079 0.89411765 0.83529413]\n",
            " [0.84313726 0.74117649 0.86274511 ... 0.84313726 0.84313726 0.87843138]\n",
            " ...\n",
            " [0.6156863  0.60784316 0.58823532 ... 0.75294119 0.73333335 0.78431374]\n",
            " [0.61176473 0.60000002 0.61960787 ... 0.71372551 0.7019608  0.71372551]\n",
            " [0.62352943 0.6156863  0.63529414 ... 0.74117649 0.74117649 0.69803923]]\n",
            "[[0.5 0.5 0.5 ... 0.5 0.5 0.5]\n",
            " [0.5 0.5 0.5 ... 0.5 0.5 0.5]\n",
            " [0.5 0.5 0.5 ... 0.5 0.5 0.5]\n",
            " ...\n",
            " [0.5 0.5 0.5 ... 0.5 0.5 0.5]\n",
            " [0.5 0.5 0.5 ... 0.5 0.5 0.5]\n",
            " [0.5 0.5 0.5 ... 0.5 0.5 0.5]]\n",
            "[[6. 6. 6. ... 6. 6. 6.]\n",
            " [6. 6. 6. ... 6. 6. 6.]\n",
            " [6. 6. 6. ... 6. 6. 6.]\n",
            " ...\n",
            " [6. 6. 6. ... 6. 6. 6.]\n",
            " [6. 6. 6. ... 6. 6. 6.]\n",
            " [6. 6. 6. ... 6. 6. 6.]]\n"
          ],
          "name": "stdout"
        }
      ]
    },
    {
      "cell_type": "code",
      "metadata": {
        "id": "TDCJ49xy0mQc",
        "colab_type": "code",
        "colab": {}
      },
      "source": [
        "x_input = dataset[ :576, :, :, : ]\n",
        "x_val = dataset[ 576:, :, :, :]"
      ],
      "execution_count": 0,
      "outputs": []
    },
    {
      "cell_type": "markdown",
      "metadata": {
        "id": "dPwVVHcA08cT",
        "colab_type": "text"
      },
      "source": [
        "setting up input and validation dataset."
      ]
    },
    {
      "cell_type": "code",
      "metadata": {
        "id": "V8Jj71huf_iZ",
        "colab_type": "code",
        "colab": {
          "base_uri": "https://localhost:8080/",
          "height": 527
        },
        "outputId": "7abab02e-249d-4509-c3a9-f1af44bfb6a2"
      },
      "source": [
        "label_to_index = dict((name, index) for index, name in enumerate(timeL))\n",
        "list_values = [ v for v in label_to_index.values() ]\n",
        "list_values\n",
        "output_dataset = keras.utils.to_categorical(list_values, num_classes = 720)\n",
        "print( output_dataset[0] )"
      ],
      "execution_count": 42,
      "outputs": [
        {
          "output_type": "stream",
          "text": [
            "[1. 0. 0. 0. 0. 0. 0. 0. 0. 0. 0. 0. 0. 0. 0. 0. 0. 0. 0. 0. 0. 0. 0. 0.\n",
            " 0. 0. 0. 0. 0. 0. 0. 0. 0. 0. 0. 0. 0. 0. 0. 0. 0. 0. 0. 0. 0. 0. 0. 0.\n",
            " 0. 0. 0. 0. 0. 0. 0. 0. 0. 0. 0. 0. 0. 0. 0. 0. 0. 0. 0. 0. 0. 0. 0. 0.\n",
            " 0. 0. 0. 0. 0. 0. 0. 0. 0. 0. 0. 0. 0. 0. 0. 0. 0. 0. 0. 0. 0. 0. 0. 0.\n",
            " 0. 0. 0. 0. 0. 0. 0. 0. 0. 0. 0. 0. 0. 0. 0. 0. 0. 0. 0. 0. 0. 0. 0. 0.\n",
            " 0. 0. 0. 0. 0. 0. 0. 0. 0. 0. 0. 0. 0. 0. 0. 0. 0. 0. 0. 0. 0. 0. 0. 0.\n",
            " 0. 0. 0. 0. 0. 0. 0. 0. 0. 0. 0. 0. 0. 0. 0. 0. 0. 0. 0. 0. 0. 0. 0. 0.\n",
            " 0. 0. 0. 0. 0. 0. 0. 0. 0. 0. 0. 0. 0. 0. 0. 0. 0. 0. 0. 0. 0. 0. 0. 0.\n",
            " 0. 0. 0. 0. 0. 0. 0. 0. 0. 0. 0. 0. 0. 0. 0. 0. 0. 0. 0. 0. 0. 0. 0. 0.\n",
            " 0. 0. 0. 0. 0. 0. 0. 0. 0. 0. 0. 0. 0. 0. 0. 0. 0. 0. 0. 0. 0. 0. 0. 0.\n",
            " 0. 0. 0. 0. 0. 0. 0. 0. 0. 0. 0. 0. 0. 0. 0. 0. 0. 0. 0. 0. 0. 0. 0. 0.\n",
            " 0. 0. 0. 0. 0. 0. 0. 0. 0. 0. 0. 0. 0. 0. 0. 0. 0. 0. 0. 0. 0. 0. 0. 0.\n",
            " 0. 0. 0. 0. 0. 0. 0. 0. 0. 0. 0. 0. 0. 0. 0. 0. 0. 0. 0. 0. 0. 0. 0. 0.\n",
            " 0. 0. 0. 0. 0. 0. 0. 0. 0. 0. 0. 0. 0. 0. 0. 0. 0. 0. 0. 0. 0. 0. 0. 0.\n",
            " 0. 0. 0. 0. 0. 0. 0. 0. 0. 0. 0. 0. 0. 0. 0. 0. 0. 0. 0. 0. 0. 0. 0. 0.\n",
            " 0. 0. 0. 0. 0. 0. 0. 0. 0. 0. 0. 0. 0. 0. 0. 0. 0. 0. 0. 0. 0. 0. 0. 0.\n",
            " 0. 0. 0. 0. 0. 0. 0. 0. 0. 0. 0. 0. 0. 0. 0. 0. 0. 0. 0. 0. 0. 0. 0. 0.\n",
            " 0. 0. 0. 0. 0. 0. 0. 0. 0. 0. 0. 0. 0. 0. 0. 0. 0. 0. 0. 0. 0. 0. 0. 0.\n",
            " 0. 0. 0. 0. 0. 0. 0. 0. 0. 0. 0. 0. 0. 0. 0. 0. 0. 0. 0. 0. 0. 0. 0. 0.\n",
            " 0. 0. 0. 0. 0. 0. 0. 0. 0. 0. 0. 0. 0. 0. 0. 0. 0. 0. 0. 0. 0. 0. 0. 0.\n",
            " 0. 0. 0. 0. 0. 0. 0. 0. 0. 0. 0. 0. 0. 0. 0. 0. 0. 0. 0. 0. 0. 0. 0. 0.\n",
            " 0. 0. 0. 0. 0. 0. 0. 0. 0. 0. 0. 0. 0. 0. 0. 0. 0. 0. 0. 0. 0. 0. 0. 0.\n",
            " 0. 0. 0. 0. 0. 0. 0. 0. 0. 0. 0. 0. 0. 0. 0. 0. 0. 0. 0. 0. 0. 0. 0. 0.\n",
            " 0. 0. 0. 0. 0. 0. 0. 0. 0. 0. 0. 0. 0. 0. 0. 0. 0. 0. 0. 0. 0. 0. 0. 0.\n",
            " 0. 0. 0. 0. 0. 0. 0. 0. 0. 0. 0. 0. 0. 0. 0. 0. 0. 0. 0. 0. 0. 0. 0. 0.\n",
            " 0. 0. 0. 0. 0. 0. 0. 0. 0. 0. 0. 0. 0. 0. 0. 0. 0. 0. 0. 0. 0. 0. 0. 0.\n",
            " 0. 0. 0. 0. 0. 0. 0. 0. 0. 0. 0. 0. 0. 0. 0. 0. 0. 0. 0. 0. 0. 0. 0. 0.\n",
            " 0. 0. 0. 0. 0. 0. 0. 0. 0. 0. 0. 0. 0. 0. 0. 0. 0. 0. 0. 0. 0. 0. 0. 0.\n",
            " 0. 0. 0. 0. 0. 0. 0. 0. 0. 0. 0. 0. 0. 0. 0. 0. 0. 0. 0. 0. 0. 0. 0. 0.\n",
            " 0. 0. 0. 0. 0. 0. 0. 0. 0. 0. 0. 0. 0. 0. 0. 0. 0. 0. 0. 0. 0. 0. 0. 0.]\n"
          ],
          "name": "stdout"
        }
      ]
    },
    {
      "cell_type": "code",
      "metadata": {
        "id": "2jKYPApj1BPH",
        "colab_type": "code",
        "colab": {}
      },
      "source": [
        "y_output = output_dataset[ :576 ]\n",
        "y_val = output_dataset[ 576: ]"
      ],
      "execution_count": 0,
      "outputs": []
    },
    {
      "cell_type": "markdown",
      "metadata": {
        "id": "AQr8A2OqBmcs",
        "colab_type": "text"
      },
      "source": [
        "double checking length of the image after the resizing operation."
      ]
    },
    {
      "cell_type": "markdown",
      "metadata": {
        "id": "DFwBZBxWDhfv",
        "colab_type": "text"
      },
      "source": [
        "visualizing input in an array format."
      ]
    },
    {
      "cell_type": "markdown",
      "metadata": {
        "id": "y9KXZu5ZB4OI",
        "colab_type": "text"
      },
      "source": [
        "printing length of image d after the resizing operation"
      ]
    },
    {
      "cell_type": "code",
      "metadata": {
        "id": "ocZN1E8RBYeF",
        "colab_type": "code",
        "colab": {}
      },
      "source": [
        "k = 4\n",
        "num_val_samples = sum([len(image_analog), len(image_digital)]) \n",
        "num_epochs = 100\n",
        "num_scores = []\n",
        "\n",
        "for i in range( k ):\n",
        "  print( 'processing fold #', i )\n",
        "  val_data = images[ i * num_val_samples: (i + 1) * num_val_samples ]\n",
        "  val_targets = train_targets[ i * num_val_samples: (i + 1) * num_val_samples ]\n",
        "  \n",
        "#   partial_train_data = np.concatenate(\n",
        "#     [ train_data[ :i * num_val_samples ],\n",
        "#      train_data[ ( i + 1 ) * num_val_samples: ] ],\n",
        "#     axis = 0 )\n",
        "  \n",
        "#   partial_train_targets = np.concatenate(\n",
        "#     [ train_targets[ :i * num_val_samples ],\n",
        "#      train_targets[ ( i + 1 ) * num_val_samples: ] ],\n",
        "#     axis = 0 )\n",
        "  \n",
        "  "
      ],
      "execution_count": 0,
      "outputs": []
    },
    {
      "cell_type": "markdown",
      "metadata": {
        "id": "atjfV07JDRyb",
        "colab_type": "text"
      },
      "source": [
        "This is the k folding snippet we'll use to get our split our training and validation data."
      ]
    },
    {
      "cell_type": "markdown",
      "metadata": {
        "id": "SaWlpAEP85gK",
        "colab_type": "text"
      },
      "source": [
        "Sanity test for the files."
      ]
    },
    {
      "cell_type": "code",
      "metadata": {
        "id": "Fgn0IQGxJLsq",
        "colab_type": "code",
        "colab": {}
      },
      "source": [
        "\n",
        "#functions\n",
        "\n",
        "def annotate_theta( img, labels ):\n",
        "  #this will be a series of characters read from a label\n",
        "\n",
        "  time = []\n",
        "  theta = []\n",
        "  radius = []\n",
        "  hour = 0\n",
        "  minute = 0\n",
        "  \n",
        "  \n",
        "  #this will read from the csv labels and calculate the appropriate theta\n",
        "  #for the minute hand\n",
        "  \n",
        "  #this will read the label and calculate the theta for the\n",
        "  #hour hand now\n",
        "  \n",
        "  for i in range( len( labels ) ):\n",
        "    \n",
        "    time = labels[ i ].split( ':' )\n",
        "    print( time )\n",
        "    hour = int( time[ 0 ] )\n",
        "    minute = int( time[ 1 ] )\n",
        "    radius[ 0 ] = 2\n",
        "    radius[ 1 ] = 4\n",
        "    theta[ 0 ] = ( 0.5 * minute )\n",
        "    theta[ 1 ] = ( 6 * minute )\n",
        "  \n",
        "  return radius, theta\n",
        "  \n",
        "\n",
        "def load_dataset(img,  labels):\n",
        "  X = []\n",
        "  \n",
        "  #once we annotated radius and theta into r and t\n",
        "  #we will load it into a format of:\n",
        "  #dataset = [ img, [ r(hour), r(minute) ], [t(hour), t(minute) ] ]\n",
        "  \n",
        "  for i in range( len( img ) ):\n",
        "    r, t = annotate_theta( img[ i ], labels[ i ] )\n",
        "    print( r )\n",
        "    print( t )\n",
        "    X.append( img[i] )\n",
        "    X.append( r )\n",
        "    X.append( t )\n",
        "  \n",
        "  return X\n",
        "\n",
        "\n",
        "def residual_unit( inputs, filters, kernel, drop_out = 0.0, pooling = False ):\n",
        "  res = inputs\n",
        "  \n",
        "  if pooling == True:\n",
        "    res = Conv2D( filters, kernel_size = 1, strides = ( 2, 2) )( res )\n",
        "    inputs = MaxPooling2D( pool_size = ( 2, 2 ) )(inputs)\n",
        "    \n",
        "  inputs = BatchNormalization()( inputs )\n",
        "  inputs = Conv2D( filters, kernel, padding = 'same' )( inputs )\n",
        "  inputs = Activation( \"relu\" )( inputs )\n",
        "  inputs = Dropout( drop_out )( inputs )\n",
        "  \n",
        "  inputs = BatchNormalization()( inputs )\n",
        "  inputs = Conv2D( filters, kernel, padding = 'same' )( inputs )\n",
        "  inputs = Activation( \"relu\" )( inputs )\n",
        "  \n",
        "  inputs = keras.layers.add( [ inputs, res ] )\n",
        "  \n",
        "  return inputs\n",
        "\n",
        "# #main function\n",
        "\n",
        "\n",
        "# #using callback to save a clock AI on best validation.\n",
        "# #model.save('clock_ai_0.1.h5')\n",
        "\n"
      ],
      "execution_count": 0,
      "outputs": []
    },
    {
      "cell_type": "code",
      "metadata": {
        "id": "g7Unkw2yFXpQ",
        "colab_type": "code",
        "outputId": "f9e40312-2379-4100-9f6e-04c31bda8e68",
        "colab": {
          "base_uri": "https://localhost:8080/",
          "height": 6834
        }
      },
      "source": [
        "\n",
        "input_shape = Input( shape = x_input[ 0, :, :, :].shape )\n",
        "\n",
        "inputs = input_shape\n",
        "\n",
        "inputs = Conv2D( 32, 3, padding = 'same' )( inputs )\n",
        "inputs = residual_unit( inputs, 32, 3 )\n",
        "inputs = residual_unit( inputs, 32, 3 )\n",
        "\n",
        "inputs = residual_unit( inputs, 64, 3, 0.0, True )\n",
        "inputs = residual_unit( inputs, 64, 3 )\n",
        "\n",
        "inputs = residual_unit( inputs, 128, 3, 0.0, True )\n",
        "inputs = residual_unit( inputs, 128, 3 )\n",
        "\n",
        "inputs = BatchNormalization()( inputs )\n",
        "inputs = Conv2D( 256, 3 )( inputs )\n",
        "inputs = Activation( \"relu\" )( inputs )\n",
        "\n",
        "inputs = Flatten()( inputs )\n",
        "inputs = Dense( 50 )( inputs )\n",
        "inputs = Dense( 60 )( inputs )\n",
        "inputs = Dense( 720 )( inputs )\n",
        "prediction = Activation( \"softmax\" )( inputs )\n",
        "model = Model( input_shape, prediction )\n",
        "\n",
        "model.compile(optimizer = 'adam', \n",
        "              loss = 'categorical_crossentropy',\n",
        "              metrics = ['accuracy'])\n",
        "history = model.fit( x_input , y_output, epochs = 200, batch_size = 100, validation_data = ( x_val, y_val ) )"
      ],
      "execution_count": 48,
      "outputs": [
        {
          "output_type": "stream",
          "text": [
            "Train on 576 samples, validate on 144 samples\n",
            "Epoch 1/200\n",
            "576/576 [==============================] - 6s 10ms/step - loss: 13.6234 - acc: 0.0000e+00 - val_loss: 15.5348 - val_acc: 0.0000e+00\n",
            "Epoch 2/200\n",
            "576/576 [==============================] - 2s 4ms/step - loss: 11.6851 - acc: 0.0000e+00 - val_loss: 13.5098 - val_acc: 0.0000e+00\n",
            "Epoch 3/200\n",
            "576/576 [==============================] - 2s 4ms/step - loss: 9.4342 - acc: 0.0017 - val_loss: 13.8266 - val_acc: 0.0000e+00\n",
            "Epoch 4/200\n",
            "576/576 [==============================] - 2s 4ms/step - loss: 8.9821 - acc: 0.0052 - val_loss: 15.0569 - val_acc: 0.0000e+00\n",
            "Epoch 5/200\n",
            "576/576 [==============================] - 2s 4ms/step - loss: 8.3947 - acc: 0.0035 - val_loss: 13.3595 - val_acc: 0.0000e+00\n",
            "Epoch 6/200\n",
            "576/576 [==============================] - 2s 4ms/step - loss: 7.9153 - acc: 0.0017 - val_loss: 13.5267 - val_acc: 0.0000e+00\n",
            "Epoch 7/200\n",
            "576/576 [==============================] - 2s 4ms/step - loss: 7.8398 - acc: 0.0052 - val_loss: 13.4838 - val_acc: 0.0000e+00\n",
            "Epoch 8/200\n",
            "576/576 [==============================] - 2s 4ms/step - loss: 7.6304 - acc: 0.0052 - val_loss: 13.3555 - val_acc: 0.0000e+00\n",
            "Epoch 9/200\n",
            "576/576 [==============================] - 2s 4ms/step - loss: 7.4027 - acc: 0.0052 - val_loss: 13.0629 - val_acc: 0.0000e+00\n",
            "Epoch 10/200\n",
            "576/576 [==============================] - 2s 4ms/step - loss: 7.6828 - acc: 0.0035 - val_loss: 13.0211 - val_acc: 0.0000e+00\n",
            "Epoch 11/200\n",
            "576/576 [==============================] - 2s 4ms/step - loss: 7.3399 - acc: 0.0035 - val_loss: 11.1753 - val_acc: 0.0000e+00\n",
            "Epoch 12/200\n",
            "576/576 [==============================] - 2s 4ms/step - loss: 7.2499 - acc: 0.0052 - val_loss: 13.1872 - val_acc: 0.0000e+00\n",
            "Epoch 13/200\n",
            "576/576 [==============================] - 2s 4ms/step - loss: 7.0807 - acc: 0.0035 - val_loss: 13.4370 - val_acc: 0.0000e+00\n",
            "Epoch 14/200\n",
            "576/576 [==============================] - 2s 4ms/step - loss: 6.9338 - acc: 0.0069 - val_loss: 13.2060 - val_acc: 0.0000e+00\n",
            "Epoch 15/200\n",
            "576/576 [==============================] - 2s 4ms/step - loss: 6.9696 - acc: 0.0052 - val_loss: 12.8889 - val_acc: 0.0000e+00\n",
            "Epoch 16/200\n",
            "576/576 [==============================] - 2s 4ms/step - loss: 7.0413 - acc: 0.0069 - val_loss: 12.7795 - val_acc: 0.0000e+00\n",
            "Epoch 17/200\n",
            "576/576 [==============================] - 2s 4ms/step - loss: 7.0266 - acc: 0.0052 - val_loss: 12.1622 - val_acc: 0.0000e+00\n",
            "Epoch 18/200\n",
            "576/576 [==============================] - 2s 4ms/step - loss: 6.7086 - acc: 0.0017 - val_loss: 12.0107 - val_acc: 0.0000e+00\n",
            "Epoch 19/200\n",
            "576/576 [==============================] - 2s 4ms/step - loss: 6.7177 - acc: 0.0035 - val_loss: 12.2662 - val_acc: 0.0000e+00\n",
            "Epoch 20/200\n",
            "576/576 [==============================] - 2s 4ms/step - loss: 6.6364 - acc: 0.0069 - val_loss: 10.4683 - val_acc: 0.0000e+00\n",
            "Epoch 21/200\n",
            "576/576 [==============================] - 2s 4ms/step - loss: 6.4443 - acc: 0.0017 - val_loss: 10.4092 - val_acc: 0.0000e+00\n",
            "Epoch 22/200\n",
            "576/576 [==============================] - 2s 4ms/step - loss: 6.1395 - acc: 0.0017 - val_loss: 8.9758 - val_acc: 0.0000e+00\n",
            "Epoch 23/200\n",
            "576/576 [==============================] - 2s 4ms/step - loss: 6.1577 - acc: 0.0052 - val_loss: 11.2704 - val_acc: 0.0000e+00\n",
            "Epoch 24/200\n",
            "576/576 [==============================] - 2s 4ms/step - loss: 6.4724 - acc: 0.0104 - val_loss: 13.6096 - val_acc: 0.0000e+00\n",
            "Epoch 25/200\n",
            "576/576 [==============================] - 2s 4ms/step - loss: 6.8444 - acc: 0.0035 - val_loss: 13.3343 - val_acc: 0.0000e+00\n",
            "Epoch 26/200\n",
            "576/576 [==============================] - 2s 4ms/step - loss: 6.6859 - acc: 0.0104 - val_loss: 13.4646 - val_acc: 0.0000e+00\n",
            "Epoch 27/200\n",
            "576/576 [==============================] - 2s 4ms/step - loss: 6.4529 - acc: 0.0087 - val_loss: 12.0292 - val_acc: 0.0000e+00\n",
            "Epoch 28/200\n",
            "576/576 [==============================] - 2s 4ms/step - loss: 6.0890 - acc: 0.0122 - val_loss: 10.9855 - val_acc: 0.0000e+00\n",
            "Epoch 29/200\n",
            "576/576 [==============================] - 2s 4ms/step - loss: 6.0150 - acc: 0.0122 - val_loss: 11.4630 - val_acc: 0.0000e+00\n",
            "Epoch 30/200\n",
            "576/576 [==============================] - 2s 4ms/step - loss: 5.9419 - acc: 0.0052 - val_loss: 9.6884 - val_acc: 0.0000e+00\n",
            "Epoch 31/200\n",
            "576/576 [==============================] - 2s 4ms/step - loss: 5.8447 - acc: 0.0069 - val_loss: 9.9280 - val_acc: 0.0000e+00\n",
            "Epoch 32/200\n",
            "576/576 [==============================] - 2s 4ms/step - loss: 5.5727 - acc: 0.0052 - val_loss: 9.3208 - val_acc: 0.0000e+00\n",
            "Epoch 33/200\n",
            "576/576 [==============================] - 2s 4ms/step - loss: 5.5597 - acc: 0.0069 - val_loss: 10.6434 - val_acc: 0.0000e+00\n",
            "Epoch 34/200\n",
            "576/576 [==============================] - 2s 4ms/step - loss: 5.6374 - acc: 0.0122 - val_loss: 8.9985 - val_acc: 0.0000e+00\n",
            "Epoch 35/200\n",
            "576/576 [==============================] - 2s 4ms/step - loss: 5.8189 - acc: 0.0104 - val_loss: 11.6300 - val_acc: 0.0000e+00\n",
            "Epoch 36/200\n",
            "576/576 [==============================] - 2s 4ms/step - loss: 6.0978 - acc: 0.0017 - val_loss: 10.4327 - val_acc: 0.0000e+00\n",
            "Epoch 37/200\n",
            "576/576 [==============================] - 2s 4ms/step - loss: 5.9683 - acc: 0.0104 - val_loss: 11.5114 - val_acc: 0.0000e+00\n",
            "Epoch 38/200\n",
            "576/576 [==============================] - 2s 4ms/step - loss: 5.5754 - acc: 0.0069 - val_loss: 10.6600 - val_acc: 0.0000e+00\n",
            "Epoch 39/200\n",
            "576/576 [==============================] - 2s 4ms/step - loss: 5.5263 - acc: 0.0052 - val_loss: 8.3926 - val_acc: 0.0000e+00\n",
            "Epoch 40/200\n",
            "576/576 [==============================] - 2s 4ms/step - loss: 5.6333 - acc: 0.0104 - val_loss: 15.1072 - val_acc: 0.0000e+00\n",
            "Epoch 41/200\n",
            "576/576 [==============================] - 2s 4ms/step - loss: 5.7800 - acc: 0.0035 - val_loss: 15.4437 - val_acc: 0.0000e+00\n",
            "Epoch 42/200\n",
            "576/576 [==============================] - 2s 4ms/step - loss: 5.8894 - acc: 0.0069 - val_loss: 14.3902 - val_acc: 0.0000e+00\n",
            "Epoch 43/200\n",
            "576/576 [==============================] - 2s 4ms/step - loss: 5.7313 - acc: 0.0052 - val_loss: 13.8936 - val_acc: 0.0000e+00\n",
            "Epoch 44/200\n",
            "576/576 [==============================] - 2s 4ms/step - loss: 5.6339 - acc: 0.0052 - val_loss: 12.9319 - val_acc: 0.0000e+00\n",
            "Epoch 45/200\n",
            "576/576 [==============================] - 2s 4ms/step - loss: 5.4265 - acc: 0.0087 - val_loss: 12.5796 - val_acc: 0.0000e+00\n",
            "Epoch 46/200\n",
            "576/576 [==============================] - 2s 4ms/step - loss: 5.2775 - acc: 0.0069 - val_loss: 11.5602 - val_acc: 0.0000e+00\n",
            "Epoch 47/200\n",
            "576/576 [==============================] - 2s 4ms/step - loss: 5.2710 - acc: 0.0069 - val_loss: 14.3070 - val_acc: 0.0000e+00\n",
            "Epoch 48/200\n",
            "576/576 [==============================] - 2s 4ms/step - loss: 5.3954 - acc: 0.0069 - val_loss: 12.6617 - val_acc: 0.0000e+00\n",
            "Epoch 49/200\n",
            "576/576 [==============================] - 2s 4ms/step - loss: 5.4045 - acc: 0.0104 - val_loss: 13.6956 - val_acc: 0.0000e+00\n",
            "Epoch 50/200\n",
            "576/576 [==============================] - 2s 4ms/step - loss: 5.4699 - acc: 0.0035 - val_loss: 15.1651 - val_acc: 0.0000e+00\n",
            "Epoch 51/200\n",
            "576/576 [==============================] - 2s 4ms/step - loss: 5.2158 - acc: 0.0104 - val_loss: 15.4663 - val_acc: 0.0000e+00\n",
            "Epoch 52/200\n",
            "576/576 [==============================] - 2s 4ms/step - loss: 5.3436 - acc: 0.0122 - val_loss: 13.2239 - val_acc: 0.0000e+00\n",
            "Epoch 53/200\n",
            "576/576 [==============================] - 2s 4ms/step - loss: 5.0276 - acc: 0.0156 - val_loss: 11.5586 - val_acc: 0.0000e+00\n",
            "Epoch 54/200\n",
            "576/576 [==============================] - 2s 4ms/step - loss: 5.2659 - acc: 0.0087 - val_loss: 14.0618 - val_acc: 0.0000e+00\n",
            "Epoch 55/200\n",
            "576/576 [==============================] - 2s 4ms/step - loss: 5.0958 - acc: 0.0035 - val_loss: 14.3961 - val_acc: 0.0000e+00\n",
            "Epoch 56/200\n",
            "576/576 [==============================] - 2s 4ms/step - loss: 5.1258 - acc: 0.0035 - val_loss: 14.6289 - val_acc: 0.0000e+00\n",
            "Epoch 57/200\n",
            "576/576 [==============================] - 2s 4ms/step - loss: 5.1073 - acc: 0.0122 - val_loss: 14.6216 - val_acc: 0.0000e+00\n",
            "Epoch 58/200\n",
            "576/576 [==============================] - 2s 4ms/step - loss: 4.9735 - acc: 0.0122 - val_loss: 14.3109 - val_acc: 0.0000e+00\n",
            "Epoch 59/200\n",
            "576/576 [==============================] - 2s 4ms/step - loss: 5.0223 - acc: 0.0122 - val_loss: 14.4947 - val_acc: 0.0000e+00\n",
            "Epoch 60/200\n",
            "576/576 [==============================] - 2s 4ms/step - loss: 5.4012 - acc: 0.0052 - val_loss: 15.0235 - val_acc: 0.0000e+00\n",
            "Epoch 61/200\n",
            "576/576 [==============================] - 2s 4ms/step - loss: 5.1694 - acc: 0.0104 - val_loss: 14.0756 - val_acc: 0.0000e+00\n",
            "Epoch 62/200\n",
            "576/576 [==============================] - 2s 4ms/step - loss: 5.1258 - acc: 0.0017 - val_loss: 12.6784 - val_acc: 0.0000e+00\n",
            "Epoch 63/200\n",
            "576/576 [==============================] - 2s 4ms/step - loss: 5.0074 - acc: 0.0139 - val_loss: 15.4279 - val_acc: 0.0000e+00\n",
            "Epoch 64/200\n",
            "576/576 [==============================] - 2s 4ms/step - loss: 5.0578 - acc: 0.0087 - val_loss: 15.3384 - val_acc: 0.0000e+00\n",
            "Epoch 65/200\n",
            "576/576 [==============================] - 2s 4ms/step - loss: 5.2487 - acc: 0.0208 - val_loss: 15.1624 - val_acc: 0.0000e+00\n",
            "Epoch 66/200\n",
            "576/576 [==============================] - 2s 4ms/step - loss: 5.0831 - acc: 0.0139 - val_loss: 15.0190 - val_acc: 0.0000e+00\n",
            "Epoch 67/200\n",
            "576/576 [==============================] - 2s 4ms/step - loss: 4.8315 - acc: 0.0139 - val_loss: 14.5716 - val_acc: 0.0000e+00\n",
            "Epoch 68/200\n",
            "576/576 [==============================] - 2s 4ms/step - loss: 4.8671 - acc: 0.0139 - val_loss: 14.4325 - val_acc: 0.0000e+00\n",
            "Epoch 69/200\n",
            "576/576 [==============================] - 2s 4ms/step - loss: 4.9404 - acc: 0.0104 - val_loss: 14.2754 - val_acc: 0.0000e+00\n",
            "Epoch 70/200\n",
            "576/576 [==============================] - 2s 4ms/step - loss: 5.1806 - acc: 0.0139 - val_loss: 14.2151 - val_acc: 0.0000e+00\n",
            "Epoch 71/200\n",
            "576/576 [==============================] - 2s 4ms/step - loss: 4.9697 - acc: 0.0069 - val_loss: 10.5401 - val_acc: 0.0000e+00\n",
            "Epoch 72/200\n",
            "576/576 [==============================] - 2s 4ms/step - loss: 4.8634 - acc: 0.0139 - val_loss: 13.0276 - val_acc: 0.0000e+00\n",
            "Epoch 73/200\n",
            "576/576 [==============================] - 2s 4ms/step - loss: 5.2123 - acc: 0.0017 - val_loss: 13.5998 - val_acc: 0.0000e+00\n",
            "Epoch 74/200\n",
            "576/576 [==============================] - 2s 4ms/step - loss: 5.1262 - acc: 0.0156 - val_loss: 14.4829 - val_acc: 0.0000e+00\n",
            "Epoch 75/200\n",
            "576/576 [==============================] - 2s 4ms/step - loss: 4.9828 - acc: 0.0104 - val_loss: 14.1139 - val_acc: 0.0000e+00\n",
            "Epoch 76/200\n",
            "576/576 [==============================] - 2s 4ms/step - loss: 4.9824 - acc: 0.0087 - val_loss: 14.2158 - val_acc: 0.0000e+00\n",
            "Epoch 77/200\n",
            "576/576 [==============================] - 2s 4ms/step - loss: 4.8076 - acc: 0.0174 - val_loss: 14.0378 - val_acc: 0.0000e+00\n",
            "Epoch 78/200\n",
            "576/576 [==============================] - 2s 4ms/step - loss: 4.9445 - acc: 0.0122 - val_loss: 13.8147 - val_acc: 0.0000e+00\n",
            "Epoch 79/200\n",
            "576/576 [==============================] - 2s 4ms/step - loss: 4.7700 - acc: 0.0156 - val_loss: 13.6824 - val_acc: 0.0000e+00\n",
            "Epoch 80/200\n",
            "576/576 [==============================] - 2s 4ms/step - loss: 4.6713 - acc: 0.0139 - val_loss: 13.1435 - val_acc: 0.0000e+00\n",
            "Epoch 81/200\n",
            "576/576 [==============================] - 2s 4ms/step - loss: 4.6750 - acc: 0.0122 - val_loss: 13.3482 - val_acc: 0.0000e+00\n",
            "Epoch 82/200\n",
            "576/576 [==============================] - 2s 4ms/step - loss: 4.9570 - acc: 0.0191 - val_loss: 13.6788 - val_acc: 0.0000e+00\n",
            "Epoch 83/200\n",
            "576/576 [==============================] - 2s 4ms/step - loss: 5.1440 - acc: 0.0104 - val_loss: 12.9571 - val_acc: 0.0000e+00\n",
            "Epoch 84/200\n",
            "576/576 [==============================] - 2s 4ms/step - loss: 5.3048 - acc: 0.0104 - val_loss: 13.5172 - val_acc: 0.0000e+00\n",
            "Epoch 85/200\n",
            "576/576 [==============================] - 2s 4ms/step - loss: 5.0368 - acc: 0.0174 - val_loss: 14.8433 - val_acc: 0.0000e+00\n",
            "Epoch 86/200\n",
            "576/576 [==============================] - 2s 4ms/step - loss: 4.8558 - acc: 0.0122 - val_loss: 15.0122 - val_acc: 0.0000e+00\n",
            "Epoch 87/200\n",
            "576/576 [==============================] - 2s 4ms/step - loss: 4.8694 - acc: 0.0122 - val_loss: 15.6681 - val_acc: 0.0000e+00\n",
            "Epoch 88/200\n",
            "576/576 [==============================] - 2s 4ms/step - loss: 4.8126 - acc: 0.0104 - val_loss: 15.4752 - val_acc: 0.0000e+00\n",
            "Epoch 89/200\n",
            "576/576 [==============================] - 2s 4ms/step - loss: 4.8138 - acc: 0.0122 - val_loss: 15.3615 - val_acc: 0.0000e+00\n",
            "Epoch 90/200\n",
            "576/576 [==============================] - 2s 4ms/step - loss: 4.9042 - acc: 0.0156 - val_loss: 14.3361 - val_acc: 0.0000e+00\n",
            "Epoch 91/200\n",
            "576/576 [==============================] - 2s 4ms/step - loss: 4.7538 - acc: 0.0208 - val_loss: 15.2131 - val_acc: 0.0000e+00\n",
            "Epoch 92/200\n",
            "576/576 [==============================] - 2s 4ms/step - loss: 4.7925 - acc: 0.0052 - val_loss: 14.0180 - val_acc: 0.0000e+00\n",
            "Epoch 93/200\n",
            "576/576 [==============================] - 2s 4ms/step - loss: 4.9174 - acc: 0.0052 - val_loss: 13.8676 - val_acc: 0.0000e+00\n",
            "Epoch 94/200\n",
            "576/576 [==============================] - 2s 4ms/step - loss: 4.8527 - acc: 0.0139 - val_loss: 13.8571 - val_acc: 0.0000e+00\n",
            "Epoch 95/200\n",
            "576/576 [==============================] - 2s 4ms/step - loss: 4.8162 - acc: 0.0104 - val_loss: 13.3338 - val_acc: 0.0000e+00\n",
            "Epoch 96/200\n",
            "576/576 [==============================] - 2s 4ms/step - loss: 4.7152 - acc: 0.0139 - val_loss: 14.1679 - val_acc: 0.0000e+00\n",
            "Epoch 97/200\n",
            "576/576 [==============================] - 2s 4ms/step - loss: 4.8064 - acc: 0.0122 - val_loss: 14.3535 - val_acc: 0.0000e+00\n",
            "Epoch 98/200\n",
            "576/576 [==============================] - 2s 4ms/step - loss: 4.9150 - acc: 0.0069 - val_loss: 13.8441 - val_acc: 0.0000e+00\n",
            "Epoch 99/200\n",
            "576/576 [==============================] - 2s 4ms/step - loss: 5.0720 - acc: 0.0122 - val_loss: 15.5306 - val_acc: 0.0000e+00\n",
            "Epoch 100/200\n",
            "576/576 [==============================] - 2s 4ms/step - loss: 5.0995 - acc: 0.0156 - val_loss: 15.9629 - val_acc: 0.0000e+00\n",
            "Epoch 101/200\n",
            "576/576 [==============================] - 2s 4ms/step - loss: 5.1293 - acc: 0.0156 - val_loss: 15.9503 - val_acc: 0.0000e+00\n",
            "Epoch 102/200\n",
            "576/576 [==============================] - 2s 4ms/step - loss: 5.2450 - acc: 0.0104 - val_loss: 15.8326 - val_acc: 0.0000e+00\n",
            "Epoch 103/200\n",
            "576/576 [==============================] - 2s 4ms/step - loss: 5.1405 - acc: 0.0104 - val_loss: 15.7485 - val_acc: 0.0000e+00\n",
            "Epoch 104/200\n",
            "576/576 [==============================] - 2s 4ms/step - loss: 5.3355 - acc: 0.0087 - val_loss: 15.4781 - val_acc: 0.0000e+00\n",
            "Epoch 105/200\n",
            "576/576 [==============================] - 2s 4ms/step - loss: 4.9422 - acc: 0.0087 - val_loss: 15.1017 - val_acc: 0.0000e+00\n",
            "Epoch 106/200\n",
            "576/576 [==============================] - 2s 4ms/step - loss: 4.8278 - acc: 0.0104 - val_loss: 14.6159 - val_acc: 0.0000e+00\n",
            "Epoch 107/200\n",
            "576/576 [==============================] - 2s 4ms/step - loss: 4.9155 - acc: 0.0174 - val_loss: 14.2533 - val_acc: 0.0000e+00\n",
            "Epoch 108/200\n",
            "576/576 [==============================] - 2s 4ms/step - loss: 4.6737 - acc: 0.0191 - val_loss: 13.6913 - val_acc: 0.0000e+00\n",
            "Epoch 109/200\n",
            "576/576 [==============================] - 2s 4ms/step - loss: 4.7442 - acc: 0.0087 - val_loss: 14.1855 - val_acc: 0.0000e+00\n",
            "Epoch 110/200\n",
            "576/576 [==============================] - 2s 4ms/step - loss: 4.7656 - acc: 0.0104 - val_loss: 13.3484 - val_acc: 0.0000e+00\n",
            "Epoch 111/200\n",
            "576/576 [==============================] - 2s 4ms/step - loss: 4.6948 - acc: 0.0174 - val_loss: 10.9786 - val_acc: 0.0000e+00\n",
            "Epoch 112/200\n",
            "576/576 [==============================] - 2s 4ms/step - loss: 5.2304 - acc: 0.0069 - val_loss: 11.1513 - val_acc: 0.0000e+00\n",
            "Epoch 113/200\n",
            "576/576 [==============================] - 2s 4ms/step - loss: 4.8225 - acc: 0.0104 - val_loss: 12.5470 - val_acc: 0.0000e+00\n",
            "Epoch 114/200\n",
            "576/576 [==============================] - 2s 4ms/step - loss: 4.6509 - acc: 0.0139 - val_loss: 14.7283 - val_acc: 0.0000e+00\n",
            "Epoch 115/200\n",
            "576/576 [==============================] - 2s 4ms/step - loss: 4.6799 - acc: 0.0087 - val_loss: 13.2835 - val_acc: 0.0000e+00\n",
            "Epoch 116/200\n",
            "576/576 [==============================] - 2s 4ms/step - loss: 4.8175 - acc: 0.0087 - val_loss: 13.0123 - val_acc: 0.0000e+00\n",
            "Epoch 117/200\n",
            "576/576 [==============================] - 2s 4ms/step - loss: 5.0074 - acc: 0.0122 - val_loss: 13.0939 - val_acc: 0.0000e+00\n",
            "Epoch 118/200\n",
            "576/576 [==============================] - 2s 4ms/step - loss: 4.5960 - acc: 0.0156 - val_loss: 12.5467 - val_acc: 0.0000e+00\n",
            "Epoch 119/200\n",
            "576/576 [==============================] - 2s 4ms/step - loss: 4.5005 - acc: 0.0087 - val_loss: 13.5644 - val_acc: 0.0000e+00\n",
            "Epoch 120/200\n",
            "576/576 [==============================] - 2s 4ms/step - loss: 4.6726 - acc: 0.0035 - val_loss: 13.6346 - val_acc: 0.0000e+00\n",
            "Epoch 121/200\n",
            "576/576 [==============================] - 2s 4ms/step - loss: 4.6275 - acc: 0.0191 - val_loss: 13.4918 - val_acc: 0.0000e+00\n",
            "Epoch 122/200\n",
            "576/576 [==============================] - 2s 4ms/step - loss: 4.4721 - acc: 0.0191 - val_loss: 13.9374 - val_acc: 0.0000e+00\n",
            "Epoch 123/200\n",
            "576/576 [==============================] - 2s 4ms/step - loss: 4.4422 - acc: 0.0174 - val_loss: 14.2224 - val_acc: 0.0000e+00\n",
            "Epoch 124/200\n",
            "576/576 [==============================] - 2s 4ms/step - loss: 4.7834 - acc: 0.0069 - val_loss: 14.2162 - val_acc: 0.0000e+00\n",
            "Epoch 125/200\n",
            "576/576 [==============================] - 2s 4ms/step - loss: 4.5851 - acc: 0.0122 - val_loss: 14.4512 - val_acc: 0.0000e+00\n",
            "Epoch 126/200\n",
            "576/576 [==============================] - 2s 4ms/step - loss: 4.5549 - acc: 0.0139 - val_loss: 14.5122 - val_acc: 0.0000e+00\n",
            "Epoch 127/200\n",
            "576/576 [==============================] - 2s 4ms/step - loss: 4.5452 - acc: 0.0208 - val_loss: 15.5978 - val_acc: 0.0000e+00\n",
            "Epoch 128/200\n",
            "576/576 [==============================] - 2s 4ms/step - loss: 4.6322 - acc: 0.0139 - val_loss: 15.6696 - val_acc: 0.0000e+00\n",
            "Epoch 129/200\n",
            "576/576 [==============================] - 2s 4ms/step - loss: 4.6515 - acc: 0.0156 - val_loss: 15.2392 - val_acc: 0.0000e+00\n",
            "Epoch 130/200\n",
            "576/576 [==============================] - 2s 4ms/step - loss: 4.6551 - acc: 0.0156 - val_loss: 14.9665 - val_acc: 0.0000e+00\n",
            "Epoch 131/200\n",
            "576/576 [==============================] - 2s 4ms/step - loss: 4.9128 - acc: 0.0087 - val_loss: 14.7578 - val_acc: 0.0000e+00\n",
            "Epoch 132/200\n",
            "576/576 [==============================] - 2s 4ms/step - loss: 4.9915 - acc: 0.0052 - val_loss: 14.7577 - val_acc: 0.0000e+00\n",
            "Epoch 133/200\n",
            "576/576 [==============================] - 2s 4ms/step - loss: 4.8307 - acc: 0.0122 - val_loss: 14.0638 - val_acc: 0.0000e+00\n",
            "Epoch 134/200\n",
            "576/576 [==============================] - 2s 4ms/step - loss: 4.8736 - acc: 0.0174 - val_loss: 12.7154 - val_acc: 0.0000e+00\n",
            "Epoch 135/200\n",
            "576/576 [==============================] - 2s 4ms/step - loss: 4.6793 - acc: 0.0069 - val_loss: 12.0704 - val_acc: 0.0000e+00\n",
            "Epoch 136/200\n",
            "576/576 [==============================] - 2s 4ms/step - loss: 4.5739 - acc: 0.0087 - val_loss: 12.9064 - val_acc: 0.0000e+00\n",
            "Epoch 137/200\n",
            "576/576 [==============================] - 2s 4ms/step - loss: 4.5038 - acc: 0.0191 - val_loss: 13.9951 - val_acc: 0.0000e+00\n",
            "Epoch 138/200\n",
            "576/576 [==============================] - 2s 4ms/step - loss: 4.7560 - acc: 0.0069 - val_loss: 13.6636 - val_acc: 0.0000e+00\n",
            "Epoch 139/200\n",
            "576/576 [==============================] - 2s 4ms/step - loss: 4.5577 - acc: 0.0035 - val_loss: 13.5182 - val_acc: 0.0000e+00\n",
            "Epoch 140/200\n",
            "576/576 [==============================] - 2s 4ms/step - loss: 4.3855 - acc: 0.0104 - val_loss: 13.1037 - val_acc: 0.0000e+00\n",
            "Epoch 141/200\n",
            "576/576 [==============================] - 2s 4ms/step - loss: 4.3737 - acc: 0.0174 - val_loss: 13.3272 - val_acc: 0.0000e+00\n",
            "Epoch 142/200\n",
            "576/576 [==============================] - 2s 4ms/step - loss: 5.2537 - acc: 0.0069 - val_loss: 14.8914 - val_acc: 0.0000e+00\n",
            "Epoch 143/200\n",
            "576/576 [==============================] - 2s 4ms/step - loss: 5.0539 - acc: 0.0087 - val_loss: 14.3427 - val_acc: 0.0000e+00\n",
            "Epoch 144/200\n",
            "576/576 [==============================] - 2s 4ms/step - loss: 5.0218 - acc: 0.0104 - val_loss: 15.3212 - val_acc: 0.0000e+00\n",
            "Epoch 145/200\n",
            "576/576 [==============================] - 2s 4ms/step - loss: 5.0157 - acc: 0.0139 - val_loss: 15.1717 - val_acc: 0.0000e+00\n",
            "Epoch 146/200\n",
            "576/576 [==============================] - 2s 4ms/step - loss: 5.1874 - acc: 0.0156 - val_loss: 13.8868 - val_acc: 0.0000e+00\n",
            "Epoch 147/200\n",
            "576/576 [==============================] - 2s 4ms/step - loss: 4.9601 - acc: 0.0208 - val_loss: 13.7296 - val_acc: 0.0000e+00\n",
            "Epoch 148/200\n",
            "576/576 [==============================] - 2s 4ms/step - loss: 4.7721 - acc: 0.0139 - val_loss: 13.9590 - val_acc: 0.0000e+00\n",
            "Epoch 149/200\n",
            "576/576 [==============================] - 2s 4ms/step - loss: 4.9517 - acc: 0.0087 - val_loss: 13.5210 - val_acc: 0.0000e+00\n",
            "Epoch 150/200\n",
            "576/576 [==============================] - 2s 4ms/step - loss: 4.9834 - acc: 0.0139 - val_loss: 13.2436 - val_acc: 0.0000e+00\n",
            "Epoch 151/200\n",
            "576/576 [==============================] - 2s 4ms/step - loss: 4.6194 - acc: 0.0191 - val_loss: 13.6566 - val_acc: 0.0000e+00\n",
            "Epoch 152/200\n",
            "576/576 [==============================] - 2s 4ms/step - loss: 4.9566 - acc: 0.0208 - val_loss: 14.3544 - val_acc: 0.0000e+00\n",
            "Epoch 153/200\n",
            "576/576 [==============================] - 2s 4ms/step - loss: 4.9193 - acc: 0.0139 - val_loss: 12.7919 - val_acc: 0.0000e+00\n",
            "Epoch 154/200\n",
            "576/576 [==============================] - 2s 4ms/step - loss: 4.6728 - acc: 0.0191 - val_loss: 14.7123 - val_acc: 0.0000e+00\n",
            "Epoch 155/200\n",
            "576/576 [==============================] - 2s 4ms/step - loss: 4.5379 - acc: 0.0191 - val_loss: 15.1840 - val_acc: 0.0000e+00\n",
            "Epoch 156/200\n",
            "576/576 [==============================] - 2s 4ms/step - loss: 4.5515 - acc: 0.0087 - val_loss: 15.2193 - val_acc: 0.0000e+00\n",
            "Epoch 157/200\n",
            "576/576 [==============================] - 2s 4ms/step - loss: 4.6285 - acc: 0.0156 - val_loss: 15.5743 - val_acc: 0.0000e+00\n",
            "Epoch 158/200\n",
            "576/576 [==============================] - 2s 4ms/step - loss: 4.6184 - acc: 0.0087 - val_loss: 15.8298 - val_acc: 0.0000e+00\n",
            "Epoch 159/200\n",
            "576/576 [==============================] - 2s 4ms/step - loss: 5.4095 - acc: 0.0069 - val_loss: 15.9087 - val_acc: 0.0000e+00\n",
            "Epoch 160/200\n",
            "576/576 [==============================] - 2s 4ms/step - loss: 5.1247 - acc: 0.0139 - val_loss: 15.4745 - val_acc: 0.0000e+00\n",
            "Epoch 161/200\n",
            "576/576 [==============================] - 2s 4ms/step - loss: 5.1002 - acc: 0.0156 - val_loss: 15.5384 - val_acc: 0.0000e+00\n",
            "Epoch 162/200\n",
            "576/576 [==============================] - 2s 4ms/step - loss: 4.7529 - acc: 0.0243 - val_loss: 14.5338 - val_acc: 0.0000e+00\n",
            "Epoch 163/200\n",
            "576/576 [==============================] - 2s 4ms/step - loss: 4.7284 - acc: 0.0156 - val_loss: 15.0936 - val_acc: 0.0000e+00\n",
            "Epoch 164/200\n",
            "576/576 [==============================] - 2s 4ms/step - loss: 5.0421 - acc: 0.0069 - val_loss: 14.1956 - val_acc: 0.0000e+00\n",
            "Epoch 165/200\n",
            "576/576 [==============================] - 2s 4ms/step - loss: 5.2769 - acc: 0.0139 - val_loss: 14.0382 - val_acc: 0.0000e+00\n",
            "Epoch 166/200\n",
            "576/576 [==============================] - 2s 4ms/step - loss: 4.8276 - acc: 0.0156 - val_loss: 13.8668 - val_acc: 0.0000e+00\n",
            "Epoch 167/200\n",
            "576/576 [==============================] - 2s 4ms/step - loss: 4.6451 - acc: 0.0122 - val_loss: 13.7616 - val_acc: 0.0000e+00\n",
            "Epoch 168/200\n",
            "576/576 [==============================] - 2s 4ms/step - loss: 4.8916 - acc: 0.0052 - val_loss: 13.5271 - val_acc: 0.0000e+00\n",
            "Epoch 169/200\n",
            "576/576 [==============================] - 2s 4ms/step - loss: 4.9601 - acc: 0.0174 - val_loss: 12.5872 - val_acc: 0.0000e+00\n",
            "Epoch 170/200\n",
            "576/576 [==============================] - 2s 4ms/step - loss: 4.7346 - acc: 0.0087 - val_loss: 13.4329 - val_acc: 0.0000e+00\n",
            "Epoch 171/200\n",
            "576/576 [==============================] - 2s 4ms/step - loss: 4.6777 - acc: 0.0122 - val_loss: 13.4391 - val_acc: 0.0000e+00\n",
            "Epoch 172/200\n",
            "576/576 [==============================] - 2s 4ms/step - loss: 4.6651 - acc: 0.0191 - val_loss: 14.0781 - val_acc: 0.0000e+00\n",
            "Epoch 173/200\n",
            "576/576 [==============================] - 2s 4ms/step - loss: 4.7313 - acc: 0.0156 - val_loss: 14.1833 - val_acc: 0.0000e+00\n",
            "Epoch 174/200\n",
            "576/576 [==============================] - 2s 4ms/step - loss: 4.7801 - acc: 0.0104 - val_loss: 14.5879 - val_acc: 0.0000e+00\n",
            "Epoch 175/200\n",
            "576/576 [==============================] - 2s 4ms/step - loss: 4.9513 - acc: 0.0156 - val_loss: 13.3914 - val_acc: 0.0000e+00\n",
            "Epoch 176/200\n",
            "576/576 [==============================] - 2s 4ms/step - loss: 4.6913 - acc: 0.0191 - val_loss: 12.6862 - val_acc: 0.0000e+00\n",
            "Epoch 177/200\n",
            "576/576 [==============================] - 2s 4ms/step - loss: 4.6205 - acc: 0.0104 - val_loss: 13.4395 - val_acc: 0.0000e+00\n",
            "Epoch 178/200\n",
            "576/576 [==============================] - 2s 4ms/step - loss: 4.6084 - acc: 0.0139 - val_loss: 13.2266 - val_acc: 0.0000e+00\n",
            "Epoch 179/200\n",
            "576/576 [==============================] - 2s 4ms/step - loss: 4.6192 - acc: 0.0156 - val_loss: 13.7988 - val_acc: 0.0000e+00\n",
            "Epoch 180/200\n",
            "576/576 [==============================] - 2s 4ms/step - loss: 4.6019 - acc: 0.0069 - val_loss: 13.9434 - val_acc: 0.0000e+00\n",
            "Epoch 181/200\n",
            "576/576 [==============================] - 2s 4ms/step - loss: 4.7334 - acc: 0.0104 - val_loss: 14.2137 - val_acc: 0.0000e+00\n",
            "Epoch 182/200\n",
            "576/576 [==============================] - 2s 4ms/step - loss: 4.5395 - acc: 0.0174 - val_loss: 14.8167 - val_acc: 0.0000e+00\n",
            "Epoch 183/200\n",
            "576/576 [==============================] - 2s 4ms/step - loss: 4.5674 - acc: 0.0243 - val_loss: 15.1255 - val_acc: 0.0000e+00\n",
            "Epoch 184/200\n",
            "576/576 [==============================] - 2s 4ms/step - loss: 4.5741 - acc: 0.0069 - val_loss: 15.1056 - val_acc: 0.0000e+00\n",
            "Epoch 185/200\n",
            "576/576 [==============================] - 2s 4ms/step - loss: 4.4764 - acc: 0.0069 - val_loss: 15.0447 - val_acc: 0.0000e+00\n",
            "Epoch 186/200\n",
            "576/576 [==============================] - 2s 4ms/step - loss: 4.7809 - acc: 0.0000e+00 - val_loss: 14.3107 - val_acc: 0.0000e+00\n",
            "Epoch 187/200\n",
            "576/576 [==============================] - 2s 4ms/step - loss: 4.5538 - acc: 0.0174 - val_loss: 13.7180 - val_acc: 0.0000e+00\n",
            "Epoch 188/200\n",
            "576/576 [==============================] - 2s 4ms/step - loss: 4.8757 - acc: 0.0156 - val_loss: 13.9371 - val_acc: 0.0000e+00\n",
            "Epoch 189/200\n",
            "576/576 [==============================] - 2s 4ms/step - loss: 4.7775 - acc: 0.0174 - val_loss: 12.0017 - val_acc: 0.0000e+00\n",
            "Epoch 190/200\n",
            "576/576 [==============================] - 2s 4ms/step - loss: 4.4007 - acc: 0.0226 - val_loss: 11.3426 - val_acc: 0.0000e+00\n",
            "Epoch 191/200\n",
            "576/576 [==============================] - 2s 4ms/step - loss: 4.5040 - acc: 0.0174 - val_loss: 10.8868 - val_acc: 0.0000e+00\n",
            "Epoch 192/200\n",
            "576/576 [==============================] - 2s 4ms/step - loss: 4.7782 - acc: 0.0191 - val_loss: 10.8265 - val_acc: 0.0000e+00\n",
            "Epoch 193/200\n",
            "576/576 [==============================] - 2s 4ms/step - loss: 4.5258 - acc: 0.0174 - val_loss: 12.3863 - val_acc: 0.0000e+00\n",
            "Epoch 194/200\n",
            "576/576 [==============================] - 2s 4ms/step - loss: 4.4595 - acc: 0.0139 - val_loss: 13.1983 - val_acc: 0.0000e+00\n",
            "Epoch 195/200\n",
            "576/576 [==============================] - 2s 4ms/step - loss: 5.0975 - acc: 0.0156 - val_loss: 13.0685 - val_acc: 0.0000e+00\n",
            "Epoch 196/200\n",
            "576/576 [==============================] - 2s 4ms/step - loss: 5.0821 - acc: 0.0208 - val_loss: 14.1804 - val_acc: 0.0000e+00\n",
            "Epoch 197/200\n",
            "576/576 [==============================] - 2s 4ms/step - loss: 5.3235 - acc: 0.0139 - val_loss: 14.1737 - val_acc: 0.0000e+00\n",
            "Epoch 198/200\n",
            "576/576 [==============================] - 2s 4ms/step - loss: 4.9502 - acc: 0.0139 - val_loss: 14.4994 - val_acc: 0.0000e+00\n",
            "Epoch 199/200\n",
            "576/576 [==============================] - 2s 4ms/step - loss: 4.8585 - acc: 0.0139 - val_loss: 14.3142 - val_acc: 0.0000e+00\n",
            "Epoch 200/200\n",
            "576/576 [==============================] - 2s 4ms/step - loss: 4.8203 - acc: 0.0139 - val_loss: 14.9605 - val_acc: 0.0000e+00\n"
          ],
          "name": "stdout"
        }
      ]
    },
    {
      "cell_type": "code",
      "metadata": {
        "id": "QRcCBjD3ZbIV",
        "colab_type": "code",
        "colab": {
          "base_uri": "https://localhost:8080/",
          "height": 545
        },
        "outputId": "419f3f00-584d-4a8a-dc32-86f2fbda2394"
      },
      "source": [
        "acc = history.history['acc']\n",
        "val_acc = history.history['val_acc']\n",
        "loss = history.history['loss']\n",
        "val_loss = history.history['val_loss']\n",
        "\n",
        "epochs = range(len(acc))\n",
        "plt.plot(epochs, acc, 'bo', label='Training acc')\n",
        "plt.plot(epochs, val_acc, 'b', label='Validation acc')\n",
        "plt.title('Training and validation accuracy')\n",
        "plt.legend()\n",
        "\n",
        "plt.figure()\n",
        "\n",
        "plt.plot(epochs, loss, 'bo', label='Training loss')\n",
        "plt.plot(epochs, val_loss, 'b', label='Validation loss')\n",
        "plt.title('Training and validation loss')\n",
        "plt.legend()\n",
        "\n",
        "plt.show()"
      ],
      "execution_count": 49,
      "outputs": [
        {
          "output_type": "display_data",
          "data": {
            "image/png": "[encoded data removed]",
            "text/plain": [
              "<Figure size 432x288 with 1 Axes>"
            ]
          },
          "metadata": {
            "tags": []
          }
        },
        {
          "output_type": "display_data",
          "data": {
            "image/png": "[encoded data removed]",
            "text/plain": [
              "<Figure size 432x288 with 1 Axes>"
            ]
          },
          "metadata": {
            "tags": []
          }
        }
      ]
    },
    {
      "cell_type": "markdown",
      "metadata": {
        "id": "RLurvC5Y8sut",
        "colab_type": "text"
      },
      "source": [
        "Gameplan is to use polar coordinates in order to give an additional feature to the learning model during training.\n",
        "\n",
        "Initially considered using pixels to calculate theta since arctan( y / x ) will give us the angle of the clock hand.\n",
        "However, since the pixels were blurry compounded by the fact that the conditions to make theta happen is complex, an alternative was considered.\n",
        "\n",
        "Rather than use X and Y to calculate theta, the idea is then to use degree of 360 and divide by units of 60 ( which represent the minutes ). This gives us 6 degrees of movement per ***\"minute\"***.\n",
        "\n",
        "For the ***\"Hour\"*** hand we know that the hand moves 5 minute units to move to the next hour. 5 * 6 gives us 30 degrees per hour, so if we take 30 degree /60 minutes we get 0.5 degrees/minute.\n",
        "\n",
        "Same idea will be applied to the hour-hand cause this would be the one that gives the model problem since the hour-hand moves as the minute hand moves and makes things a little harder to do for the hour identification.\n",
        "\n",
        "( 4/29/19 )\n",
        "\n",
        "*added k folding so we can get our training and validation split accordingly for the small sample size\n",
        "\n",
        "*added residual unit function which will allow us to make residual units with dropout and pooling capabilities\n",
        "\n",
        "*added annotation function which will generate the other portion of input the network will be using to learn\n",
        "\n",
        "*Data generator has been added but hasn't been customized to work with this problem\n",
        "\n"
      ]
    }
  ]
}